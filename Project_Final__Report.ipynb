{
  "nbformat": 4,
  "nbformat_minor": 0,
  "metadata": {
    "colab": {
      "provenance": [],
      "gpuType": "T4"
    },
    "kernelspec": {
      "name": "python3",
      "display_name": "Python 3"
    },
    "language_info": {
      "name": "python"
    },
    "accelerator": "GPU"
  },
  "cells": [
    {
      "cell_type": "markdown",
      "source": [],
      "metadata": {
        "id": "Z2iLsXuIdTTT"
      }
    },
    {
      "cell_type": "markdown",
      "source": [
        "## Libraries and Data Download"
      ],
      "metadata": {
        "id": "zO99EAksdVM-"
      }
    },
    {
      "cell_type": "code",
      "source": [
        "import kagglehub\n",
        "import pandas as pd\n",
        "import os\n",
        "import matplotlib.pyplot as plt\n",
        "from sklearn.model_selection import train_test_split\n",
        "from torch.utils.data import TensorDataset, DataLoader\n",
        "import torch.nn as nn\n",
        "import torch.optim as optim\n",
        "import seaborn as sns\n",
        "import torch\n",
        "import numpy as np"
      ],
      "metadata": {
        "id": "OL_889JRhlFp"
      },
      "execution_count": null,
      "outputs": []
    },
    {
      "cell_type": "code",
      "execution_count": null,
      "metadata": {
        "colab": {
          "base_uri": "https://localhost:8080/"
        },
        "id": "OEOTFU_hdGiC",
        "outputId": "7d0a8b6d-5230-4e66-8449-b487c068cbf4"
      },
      "outputs": [
        {
          "output_type": "stream",
          "name": "stdout",
          "text": [
            "Downloading from https://www.kaggle.com/api/v1/datasets/download/janiobachmann/bank-marketing-dataset?dataset_version_number=1...\n"
          ]
        },
        {
          "output_type": "stream",
          "name": "stderr",
          "text": [
            "100%|██████████| 142k/142k [00:00<00:00, 69.0MB/s]"
          ]
        },
        {
          "output_type": "stream",
          "name": "stdout",
          "text": [
            "Extracting files...\n",
            "Path to dataset files: /root/.cache/kagglehub/datasets/janiobachmann/bank-marketing-dataset/versions/1\n"
          ]
        },
        {
          "output_type": "stream",
          "name": "stderr",
          "text": [
            "\n"
          ]
        }
      ],
      "source": [
        "# Download latest version\n",
        "path = kagglehub.dataset_download(\"janiobachmann/bank-marketing-dataset\")\n",
        "\n",
        "print(\"Path to dataset files:\", path)"
      ]
    },
    {
      "cell_type": "code",
      "source": [
        "#Loading the dataset to a pandas dataframe\n",
        "file_path = os.path.join(path, \"bank.csv\")\n",
        "df = pd.read_csv(file_path, sep=\",\")\n",
        "df.head()"
      ],
      "metadata": {
        "colab": {
          "base_uri": "https://localhost:8080/",
          "height": 206
        },
        "id": "e3sDz2-JdQLn",
        "outputId": "a8dce35a-b813-4b8d-a745-0430430a9f00"
      },
      "execution_count": null,
      "outputs": [
        {
          "output_type": "execute_result",
          "data": {
            "text/plain": [
              "   age         job  marital  education default  balance housing loan  contact  \\\n",
              "0   59      admin.  married  secondary      no     2343     yes   no  unknown   \n",
              "1   56      admin.  married  secondary      no       45      no   no  unknown   \n",
              "2   41  technician  married  secondary      no     1270     yes   no  unknown   \n",
              "3   55    services  married  secondary      no     2476     yes   no  unknown   \n",
              "4   54      admin.  married   tertiary      no      184      no   no  unknown   \n",
              "\n",
              "   day month  duration  campaign  pdays  previous poutcome deposit  \n",
              "0    5   may      1042         1     -1         0  unknown     yes  \n",
              "1    5   may      1467         1     -1         0  unknown     yes  \n",
              "2    5   may      1389         1     -1         0  unknown     yes  \n",
              "3    5   may       579         1     -1         0  unknown     yes  \n",
              "4    5   may       673         2     -1         0  unknown     yes  "
            ],
            "text/html": [
              "\n",
              "  <div id=\"df-eedea4e2-dbcc-4719-8c61-55d49135d35a\" class=\"colab-df-container\">\n",
              "    <div>\n",
              "<style scoped>\n",
              "    .dataframe tbody tr th:only-of-type {\n",
              "        vertical-align: middle;\n",
              "    }\n",
              "\n",
              "    .dataframe tbody tr th {\n",
              "        vertical-align: top;\n",
              "    }\n",
              "\n",
              "    .dataframe thead th {\n",
              "        text-align: right;\n",
              "    }\n",
              "</style>\n",
              "<table border=\"1\" class=\"dataframe\">\n",
              "  <thead>\n",
              "    <tr style=\"text-align: right;\">\n",
              "      <th></th>\n",
              "      <th>age</th>\n",
              "      <th>job</th>\n",
              "      <th>marital</th>\n",
              "      <th>education</th>\n",
              "      <th>default</th>\n",
              "      <th>balance</th>\n",
              "      <th>housing</th>\n",
              "      <th>loan</th>\n",
              "      <th>contact</th>\n",
              "      <th>day</th>\n",
              "      <th>month</th>\n",
              "      <th>duration</th>\n",
              "      <th>campaign</th>\n",
              "      <th>pdays</th>\n",
              "      <th>previous</th>\n",
              "      <th>poutcome</th>\n",
              "      <th>deposit</th>\n",
              "    </tr>\n",
              "  </thead>\n",
              "  <tbody>\n",
              "    <tr>\n",
              "      <th>0</th>\n",
              "      <td>59</td>\n",
              "      <td>admin.</td>\n",
              "      <td>married</td>\n",
              "      <td>secondary</td>\n",
              "      <td>no</td>\n",
              "      <td>2343</td>\n",
              "      <td>yes</td>\n",
              "      <td>no</td>\n",
              "      <td>unknown</td>\n",
              "      <td>5</td>\n",
              "      <td>may</td>\n",
              "      <td>1042</td>\n",
              "      <td>1</td>\n",
              "      <td>-1</td>\n",
              "      <td>0</td>\n",
              "      <td>unknown</td>\n",
              "      <td>yes</td>\n",
              "    </tr>\n",
              "    <tr>\n",
              "      <th>1</th>\n",
              "      <td>56</td>\n",
              "      <td>admin.</td>\n",
              "      <td>married</td>\n",
              "      <td>secondary</td>\n",
              "      <td>no</td>\n",
              "      <td>45</td>\n",
              "      <td>no</td>\n",
              "      <td>no</td>\n",
              "      <td>unknown</td>\n",
              "      <td>5</td>\n",
              "      <td>may</td>\n",
              "      <td>1467</td>\n",
              "      <td>1</td>\n",
              "      <td>-1</td>\n",
              "      <td>0</td>\n",
              "      <td>unknown</td>\n",
              "      <td>yes</td>\n",
              "    </tr>\n",
              "    <tr>\n",
              "      <th>2</th>\n",
              "      <td>41</td>\n",
              "      <td>technician</td>\n",
              "      <td>married</td>\n",
              "      <td>secondary</td>\n",
              "      <td>no</td>\n",
              "      <td>1270</td>\n",
              "      <td>yes</td>\n",
              "      <td>no</td>\n",
              "      <td>unknown</td>\n",
              "      <td>5</td>\n",
              "      <td>may</td>\n",
              "      <td>1389</td>\n",
              "      <td>1</td>\n",
              "      <td>-1</td>\n",
              "      <td>0</td>\n",
              "      <td>unknown</td>\n",
              "      <td>yes</td>\n",
              "    </tr>\n",
              "    <tr>\n",
              "      <th>3</th>\n",
              "      <td>55</td>\n",
              "      <td>services</td>\n",
              "      <td>married</td>\n",
              "      <td>secondary</td>\n",
              "      <td>no</td>\n",
              "      <td>2476</td>\n",
              "      <td>yes</td>\n",
              "      <td>no</td>\n",
              "      <td>unknown</td>\n",
              "      <td>5</td>\n",
              "      <td>may</td>\n",
              "      <td>579</td>\n",
              "      <td>1</td>\n",
              "      <td>-1</td>\n",
              "      <td>0</td>\n",
              "      <td>unknown</td>\n",
              "      <td>yes</td>\n",
              "    </tr>\n",
              "    <tr>\n",
              "      <th>4</th>\n",
              "      <td>54</td>\n",
              "      <td>admin.</td>\n",
              "      <td>married</td>\n",
              "      <td>tertiary</td>\n",
              "      <td>no</td>\n",
              "      <td>184</td>\n",
              "      <td>no</td>\n",
              "      <td>no</td>\n",
              "      <td>unknown</td>\n",
              "      <td>5</td>\n",
              "      <td>may</td>\n",
              "      <td>673</td>\n",
              "      <td>2</td>\n",
              "      <td>-1</td>\n",
              "      <td>0</td>\n",
              "      <td>unknown</td>\n",
              "      <td>yes</td>\n",
              "    </tr>\n",
              "  </tbody>\n",
              "</table>\n",
              "</div>\n",
              "    <div class=\"colab-df-buttons\">\n",
              "\n",
              "  <div class=\"colab-df-container\">\n",
              "    <button class=\"colab-df-convert\" onclick=\"convertToInteractive('df-eedea4e2-dbcc-4719-8c61-55d49135d35a')\"\n",
              "            title=\"Convert this dataframe to an interactive table.\"\n",
              "            style=\"display:none;\">\n",
              "\n",
              "  <svg xmlns=\"http://www.w3.org/2000/svg\" height=\"24px\" viewBox=\"0 -960 960 960\">\n",
              "    <path d=\"M120-120v-720h720v720H120Zm60-500h600v-160H180v160Zm220 220h160v-160H400v160Zm0 220h160v-160H400v160ZM180-400h160v-160H180v160Zm440 0h160v-160H620v160ZM180-180h160v-160H180v160Zm440 0h160v-160H620v160Z\"/>\n",
              "  </svg>\n",
              "    </button>\n",
              "\n",
              "  <style>\n",
              "    .colab-df-container {\n",
              "      display:flex;\n",
              "      gap: 12px;\n",
              "    }\n",
              "\n",
              "    .colab-df-convert {\n",
              "      background-color: #E8F0FE;\n",
              "      border: none;\n",
              "      border-radius: 50%;\n",
              "      cursor: pointer;\n",
              "      display: none;\n",
              "      fill: #1967D2;\n",
              "      height: 32px;\n",
              "      padding: 0 0 0 0;\n",
              "      width: 32px;\n",
              "    }\n",
              "\n",
              "    .colab-df-convert:hover {\n",
              "      background-color: #E2EBFA;\n",
              "      box-shadow: 0px 1px 2px rgba(60, 64, 67, 0.3), 0px 1px 3px 1px rgba(60, 64, 67, 0.15);\n",
              "      fill: #174EA6;\n",
              "    }\n",
              "\n",
              "    .colab-df-buttons div {\n",
              "      margin-bottom: 4px;\n",
              "    }\n",
              "\n",
              "    [theme=dark] .colab-df-convert {\n",
              "      background-color: #3B4455;\n",
              "      fill: #D2E3FC;\n",
              "    }\n",
              "\n",
              "    [theme=dark] .colab-df-convert:hover {\n",
              "      background-color: #434B5C;\n",
              "      box-shadow: 0px 1px 3px 1px rgba(0, 0, 0, 0.15);\n",
              "      filter: drop-shadow(0px 1px 2px rgba(0, 0, 0, 0.3));\n",
              "      fill: #FFFFFF;\n",
              "    }\n",
              "  </style>\n",
              "\n",
              "    <script>\n",
              "      const buttonEl =\n",
              "        document.querySelector('#df-eedea4e2-dbcc-4719-8c61-55d49135d35a button.colab-df-convert');\n",
              "      buttonEl.style.display =\n",
              "        google.colab.kernel.accessAllowed ? 'block' : 'none';\n",
              "\n",
              "      async function convertToInteractive(key) {\n",
              "        const element = document.querySelector('#df-eedea4e2-dbcc-4719-8c61-55d49135d35a');\n",
              "        const dataTable =\n",
              "          await google.colab.kernel.invokeFunction('convertToInteractive',\n",
              "                                                    [key], {});\n",
              "        if (!dataTable) return;\n",
              "\n",
              "        const docLinkHtml = 'Like what you see? Visit the ' +\n",
              "          '<a target=\"_blank\" href=https://colab.research.google.com/notebooks/data_table.ipynb>data table notebook</a>'\n",
              "          + ' to learn more about interactive tables.';\n",
              "        element.innerHTML = '';\n",
              "        dataTable['output_type'] = 'display_data';\n",
              "        await google.colab.output.renderOutput(dataTable, element);\n",
              "        const docLink = document.createElement('div');\n",
              "        docLink.innerHTML = docLinkHtml;\n",
              "        element.appendChild(docLink);\n",
              "      }\n",
              "    </script>\n",
              "  </div>\n",
              "\n",
              "\n",
              "<div id=\"df-9643f611-2a2a-4a67-80ca-e78071f5130e\">\n",
              "  <button class=\"colab-df-quickchart\" onclick=\"quickchart('df-9643f611-2a2a-4a67-80ca-e78071f5130e')\"\n",
              "            title=\"Suggest charts\"\n",
              "            style=\"display:none;\">\n",
              "\n",
              "<svg xmlns=\"http://www.w3.org/2000/svg\" height=\"24px\"viewBox=\"0 0 24 24\"\n",
              "     width=\"24px\">\n",
              "    <g>\n",
              "        <path d=\"M19 3H5c-1.1 0-2 .9-2 2v14c0 1.1.9 2 2 2h14c1.1 0 2-.9 2-2V5c0-1.1-.9-2-2-2zM9 17H7v-7h2v7zm4 0h-2V7h2v10zm4 0h-2v-4h2v4z\"/>\n",
              "    </g>\n",
              "</svg>\n",
              "  </button>\n",
              "\n",
              "<style>\n",
              "  .colab-df-quickchart {\n",
              "      --bg-color: #E8F0FE;\n",
              "      --fill-color: #1967D2;\n",
              "      --hover-bg-color: #E2EBFA;\n",
              "      --hover-fill-color: #174EA6;\n",
              "      --disabled-fill-color: #AAA;\n",
              "      --disabled-bg-color: #DDD;\n",
              "  }\n",
              "\n",
              "  [theme=dark] .colab-df-quickchart {\n",
              "      --bg-color: #3B4455;\n",
              "      --fill-color: #D2E3FC;\n",
              "      --hover-bg-color: #434B5C;\n",
              "      --hover-fill-color: #FFFFFF;\n",
              "      --disabled-bg-color: #3B4455;\n",
              "      --disabled-fill-color: #666;\n",
              "  }\n",
              "\n",
              "  .colab-df-quickchart {\n",
              "    background-color: var(--bg-color);\n",
              "    border: none;\n",
              "    border-radius: 50%;\n",
              "    cursor: pointer;\n",
              "    display: none;\n",
              "    fill: var(--fill-color);\n",
              "    height: 32px;\n",
              "    padding: 0;\n",
              "    width: 32px;\n",
              "  }\n",
              "\n",
              "  .colab-df-quickchart:hover {\n",
              "    background-color: var(--hover-bg-color);\n",
              "    box-shadow: 0 1px 2px rgba(60, 64, 67, 0.3), 0 1px 3px 1px rgba(60, 64, 67, 0.15);\n",
              "    fill: var(--button-hover-fill-color);\n",
              "  }\n",
              "\n",
              "  .colab-df-quickchart-complete:disabled,\n",
              "  .colab-df-quickchart-complete:disabled:hover {\n",
              "    background-color: var(--disabled-bg-color);\n",
              "    fill: var(--disabled-fill-color);\n",
              "    box-shadow: none;\n",
              "  }\n",
              "\n",
              "  .colab-df-spinner {\n",
              "    border: 2px solid var(--fill-color);\n",
              "    border-color: transparent;\n",
              "    border-bottom-color: var(--fill-color);\n",
              "    animation:\n",
              "      spin 1s steps(1) infinite;\n",
              "  }\n",
              "\n",
              "  @keyframes spin {\n",
              "    0% {\n",
              "      border-color: transparent;\n",
              "      border-bottom-color: var(--fill-color);\n",
              "      border-left-color: var(--fill-color);\n",
              "    }\n",
              "    20% {\n",
              "      border-color: transparent;\n",
              "      border-left-color: var(--fill-color);\n",
              "      border-top-color: var(--fill-color);\n",
              "    }\n",
              "    30% {\n",
              "      border-color: transparent;\n",
              "      border-left-color: var(--fill-color);\n",
              "      border-top-color: var(--fill-color);\n",
              "      border-right-color: var(--fill-color);\n",
              "    }\n",
              "    40% {\n",
              "      border-color: transparent;\n",
              "      border-right-color: var(--fill-color);\n",
              "      border-top-color: var(--fill-color);\n",
              "    }\n",
              "    60% {\n",
              "      border-color: transparent;\n",
              "      border-right-color: var(--fill-color);\n",
              "    }\n",
              "    80% {\n",
              "      border-color: transparent;\n",
              "      border-right-color: var(--fill-color);\n",
              "      border-bottom-color: var(--fill-color);\n",
              "    }\n",
              "    90% {\n",
              "      border-color: transparent;\n",
              "      border-bottom-color: var(--fill-color);\n",
              "    }\n",
              "  }\n",
              "</style>\n",
              "\n",
              "  <script>\n",
              "    async function quickchart(key) {\n",
              "      const quickchartButtonEl =\n",
              "        document.querySelector('#' + key + ' button');\n",
              "      quickchartButtonEl.disabled = true;  // To prevent multiple clicks.\n",
              "      quickchartButtonEl.classList.add('colab-df-spinner');\n",
              "      try {\n",
              "        const charts = await google.colab.kernel.invokeFunction(\n",
              "            'suggestCharts', [key], {});\n",
              "      } catch (error) {\n",
              "        console.error('Error during call to suggestCharts:', error);\n",
              "      }\n",
              "      quickchartButtonEl.classList.remove('colab-df-spinner');\n",
              "      quickchartButtonEl.classList.add('colab-df-quickchart-complete');\n",
              "    }\n",
              "    (() => {\n",
              "      let quickchartButtonEl =\n",
              "        document.querySelector('#df-9643f611-2a2a-4a67-80ca-e78071f5130e button');\n",
              "      quickchartButtonEl.style.display =\n",
              "        google.colab.kernel.accessAllowed ? 'block' : 'none';\n",
              "    })();\n",
              "  </script>\n",
              "</div>\n",
              "\n",
              "    </div>\n",
              "  </div>\n"
            ],
            "application/vnd.google.colaboratory.intrinsic+json": {
              "type": "dataframe",
              "variable_name": "df",
              "summary": "{\n  \"name\": \"df\",\n  \"rows\": 11162,\n  \"fields\": [\n    {\n      \"column\": \"age\",\n      \"properties\": {\n        \"dtype\": \"number\",\n        \"std\": 11,\n        \"min\": 18,\n        \"max\": 95,\n        \"num_unique_values\": 76,\n        \"samples\": [\n          54,\n          47,\n          30\n        ],\n        \"semantic_type\": \"\",\n        \"description\": \"\"\n      }\n    },\n    {\n      \"column\": \"job\",\n      \"properties\": {\n        \"dtype\": \"category\",\n        \"num_unique_values\": 12,\n        \"samples\": [\n          \"self-employed\",\n          \"unknown\",\n          \"admin.\"\n        ],\n        \"semantic_type\": \"\",\n        \"description\": \"\"\n      }\n    },\n    {\n      \"column\": \"marital\",\n      \"properties\": {\n        \"dtype\": \"category\",\n        \"num_unique_values\": 3,\n        \"samples\": [\n          \"married\",\n          \"single\",\n          \"divorced\"\n        ],\n        \"semantic_type\": \"\",\n        \"description\": \"\"\n      }\n    },\n    {\n      \"column\": \"education\",\n      \"properties\": {\n        \"dtype\": \"category\",\n        \"num_unique_values\": 4,\n        \"samples\": [\n          \"tertiary\",\n          \"unknown\",\n          \"secondary\"\n        ],\n        \"semantic_type\": \"\",\n        \"description\": \"\"\n      }\n    },\n    {\n      \"column\": \"default\",\n      \"properties\": {\n        \"dtype\": \"category\",\n        \"num_unique_values\": 2,\n        \"samples\": [\n          \"yes\",\n          \"no\"\n        ],\n        \"semantic_type\": \"\",\n        \"description\": \"\"\n      }\n    },\n    {\n      \"column\": \"balance\",\n      \"properties\": {\n        \"dtype\": \"number\",\n        \"std\": 3225,\n        \"min\": -6847,\n        \"max\": 81204,\n        \"num_unique_values\": 3805,\n        \"samples\": [\n          3026,\n          1792\n        ],\n        \"semantic_type\": \"\",\n        \"description\": \"\"\n      }\n    },\n    {\n      \"column\": \"housing\",\n      \"properties\": {\n        \"dtype\": \"category\",\n        \"num_unique_values\": 2,\n        \"samples\": [\n          \"no\",\n          \"yes\"\n        ],\n        \"semantic_type\": \"\",\n        \"description\": \"\"\n      }\n    },\n    {\n      \"column\": \"loan\",\n      \"properties\": {\n        \"dtype\": \"category\",\n        \"num_unique_values\": 2,\n        \"samples\": [\n          \"yes\",\n          \"no\"\n        ],\n        \"semantic_type\": \"\",\n        \"description\": \"\"\n      }\n    },\n    {\n      \"column\": \"contact\",\n      \"properties\": {\n        \"dtype\": \"category\",\n        \"num_unique_values\": 3,\n        \"samples\": [\n          \"unknown\",\n          \"cellular\"\n        ],\n        \"semantic_type\": \"\",\n        \"description\": \"\"\n      }\n    },\n    {\n      \"column\": \"day\",\n      \"properties\": {\n        \"dtype\": \"number\",\n        \"std\": 8,\n        \"min\": 1,\n        \"max\": 31,\n        \"num_unique_values\": 31,\n        \"samples\": [\n          10,\n          27\n        ],\n        \"semantic_type\": \"\",\n        \"description\": \"\"\n      }\n    },\n    {\n      \"column\": \"month\",\n      \"properties\": {\n        \"dtype\": \"category\",\n        \"num_unique_values\": 12,\n        \"samples\": [\n          \"apr\",\n          \"mar\"\n        ],\n        \"semantic_type\": \"\",\n        \"description\": \"\"\n      }\n    },\n    {\n      \"column\": \"duration\",\n      \"properties\": {\n        \"dtype\": \"number\",\n        \"std\": 347,\n        \"min\": 2,\n        \"max\": 3881,\n        \"num_unique_values\": 1428,\n        \"samples\": [\n          597,\n          346\n        ],\n        \"semantic_type\": \"\",\n        \"description\": \"\"\n      }\n    },\n    {\n      \"column\": \"campaign\",\n      \"properties\": {\n        \"dtype\": \"number\",\n        \"std\": 2,\n        \"min\": 1,\n        \"max\": 63,\n        \"num_unique_values\": 36,\n        \"samples\": [\n          31,\n          7\n        ],\n        \"semantic_type\": \"\",\n        \"description\": \"\"\n      }\n    },\n    {\n      \"column\": \"pdays\",\n      \"properties\": {\n        \"dtype\": \"number\",\n        \"std\": 108,\n        \"min\": -1,\n        \"max\": 854,\n        \"num_unique_values\": 472,\n        \"samples\": [\n          294,\n          148\n        ],\n        \"semantic_type\": \"\",\n        \"description\": \"\"\n      }\n    },\n    {\n      \"column\": \"previous\",\n      \"properties\": {\n        \"dtype\": \"number\",\n        \"std\": 2,\n        \"min\": 0,\n        \"max\": 58,\n        \"num_unique_values\": 34,\n        \"samples\": [\n          30,\n          14\n        ],\n        \"semantic_type\": \"\",\n        \"description\": \"\"\n      }\n    },\n    {\n      \"column\": \"poutcome\",\n      \"properties\": {\n        \"dtype\": \"category\",\n        \"num_unique_values\": 4,\n        \"samples\": [\n          \"other\",\n          \"success\"\n        ],\n        \"semantic_type\": \"\",\n        \"description\": \"\"\n      }\n    },\n    {\n      \"column\": \"deposit\",\n      \"properties\": {\n        \"dtype\": \"category\",\n        \"num_unique_values\": 2,\n        \"samples\": [\n          \"no\",\n          \"yes\"\n        ],\n        \"semantic_type\": \"\",\n        \"description\": \"\"\n      }\n    }\n  ]\n}"
            }
          },
          "metadata": {},
          "execution_count": 3
        }
      ]
    },
    {
      "cell_type": "markdown",
      "source": [
        "##Intial Data Exploration"
      ],
      "metadata": {
        "id": "NwYoYe4wemZI"
      }
    },
    {
      "source": [
        "#Size of our dataframe\n",
        "print(f\"The df dimensions are: {df.shape}\")\n",
        "\n",
        "df.describe()"
      ],
      "cell_type": "code",
      "metadata": {
        "colab": {
          "base_uri": "https://localhost:8080/",
          "height": 318
        },
        "id": "BI2AORdgeSgX",
        "outputId": "507e2a77-ec9d-430d-8e2e-62032d50c57d"
      },
      "execution_count": null,
      "outputs": [
        {
          "output_type": "stream",
          "name": "stdout",
          "text": [
            "The df dimensions are: (11162, 17)\n"
          ]
        },
        {
          "output_type": "execute_result",
          "data": {
            "text/plain": [
              "                age       balance           day      duration      campaign  \\\n",
              "count  11162.000000  11162.000000  11162.000000  11162.000000  11162.000000   \n",
              "mean      41.231948   1528.538524     15.658036    371.993818      2.508421   \n",
              "std       11.913369   3225.413326      8.420740    347.128386      2.722077   \n",
              "min       18.000000  -6847.000000      1.000000      2.000000      1.000000   \n",
              "25%       32.000000    122.000000      8.000000    138.000000      1.000000   \n",
              "50%       39.000000    550.000000     15.000000    255.000000      2.000000   \n",
              "75%       49.000000   1708.000000     22.000000    496.000000      3.000000   \n",
              "max       95.000000  81204.000000     31.000000   3881.000000     63.000000   \n",
              "\n",
              "              pdays      previous  \n",
              "count  11162.000000  11162.000000  \n",
              "mean      51.330407      0.832557  \n",
              "std      108.758282      2.292007  \n",
              "min       -1.000000      0.000000  \n",
              "25%       -1.000000      0.000000  \n",
              "50%       -1.000000      0.000000  \n",
              "75%       20.750000      1.000000  \n",
              "max      854.000000     58.000000  "
            ],
            "text/html": [
              "\n",
              "  <div id=\"df-a31bab27-d41a-44fd-9165-73919f4b4e17\" class=\"colab-df-container\">\n",
              "    <div>\n",
              "<style scoped>\n",
              "    .dataframe tbody tr th:only-of-type {\n",
              "        vertical-align: middle;\n",
              "    }\n",
              "\n",
              "    .dataframe tbody tr th {\n",
              "        vertical-align: top;\n",
              "    }\n",
              "\n",
              "    .dataframe thead th {\n",
              "        text-align: right;\n",
              "    }\n",
              "</style>\n",
              "<table border=\"1\" class=\"dataframe\">\n",
              "  <thead>\n",
              "    <tr style=\"text-align: right;\">\n",
              "      <th></th>\n",
              "      <th>age</th>\n",
              "      <th>balance</th>\n",
              "      <th>day</th>\n",
              "      <th>duration</th>\n",
              "      <th>campaign</th>\n",
              "      <th>pdays</th>\n",
              "      <th>previous</th>\n",
              "    </tr>\n",
              "  </thead>\n",
              "  <tbody>\n",
              "    <tr>\n",
              "      <th>count</th>\n",
              "      <td>11162.000000</td>\n",
              "      <td>11162.000000</td>\n",
              "      <td>11162.000000</td>\n",
              "      <td>11162.000000</td>\n",
              "      <td>11162.000000</td>\n",
              "      <td>11162.000000</td>\n",
              "      <td>11162.000000</td>\n",
              "    </tr>\n",
              "    <tr>\n",
              "      <th>mean</th>\n",
              "      <td>41.231948</td>\n",
              "      <td>1528.538524</td>\n",
              "      <td>15.658036</td>\n",
              "      <td>371.993818</td>\n",
              "      <td>2.508421</td>\n",
              "      <td>51.330407</td>\n",
              "      <td>0.832557</td>\n",
              "    </tr>\n",
              "    <tr>\n",
              "      <th>std</th>\n",
              "      <td>11.913369</td>\n",
              "      <td>3225.413326</td>\n",
              "      <td>8.420740</td>\n",
              "      <td>347.128386</td>\n",
              "      <td>2.722077</td>\n",
              "      <td>108.758282</td>\n",
              "      <td>2.292007</td>\n",
              "    </tr>\n",
              "    <tr>\n",
              "      <th>min</th>\n",
              "      <td>18.000000</td>\n",
              "      <td>-6847.000000</td>\n",
              "      <td>1.000000</td>\n",
              "      <td>2.000000</td>\n",
              "      <td>1.000000</td>\n",
              "      <td>-1.000000</td>\n",
              "      <td>0.000000</td>\n",
              "    </tr>\n",
              "    <tr>\n",
              "      <th>25%</th>\n",
              "      <td>32.000000</td>\n",
              "      <td>122.000000</td>\n",
              "      <td>8.000000</td>\n",
              "      <td>138.000000</td>\n",
              "      <td>1.000000</td>\n",
              "      <td>-1.000000</td>\n",
              "      <td>0.000000</td>\n",
              "    </tr>\n",
              "    <tr>\n",
              "      <th>50%</th>\n",
              "      <td>39.000000</td>\n",
              "      <td>550.000000</td>\n",
              "      <td>15.000000</td>\n",
              "      <td>255.000000</td>\n",
              "      <td>2.000000</td>\n",
              "      <td>-1.000000</td>\n",
              "      <td>0.000000</td>\n",
              "    </tr>\n",
              "    <tr>\n",
              "      <th>75%</th>\n",
              "      <td>49.000000</td>\n",
              "      <td>1708.000000</td>\n",
              "      <td>22.000000</td>\n",
              "      <td>496.000000</td>\n",
              "      <td>3.000000</td>\n",
              "      <td>20.750000</td>\n",
              "      <td>1.000000</td>\n",
              "    </tr>\n",
              "    <tr>\n",
              "      <th>max</th>\n",
              "      <td>95.000000</td>\n",
              "      <td>81204.000000</td>\n",
              "      <td>31.000000</td>\n",
              "      <td>3881.000000</td>\n",
              "      <td>63.000000</td>\n",
              "      <td>854.000000</td>\n",
              "      <td>58.000000</td>\n",
              "    </tr>\n",
              "  </tbody>\n",
              "</table>\n",
              "</div>\n",
              "    <div class=\"colab-df-buttons\">\n",
              "\n",
              "  <div class=\"colab-df-container\">\n",
              "    <button class=\"colab-df-convert\" onclick=\"convertToInteractive('df-a31bab27-d41a-44fd-9165-73919f4b4e17')\"\n",
              "            title=\"Convert this dataframe to an interactive table.\"\n",
              "            style=\"display:none;\">\n",
              "\n",
              "  <svg xmlns=\"http://www.w3.org/2000/svg\" height=\"24px\" viewBox=\"0 -960 960 960\">\n",
              "    <path d=\"M120-120v-720h720v720H120Zm60-500h600v-160H180v160Zm220 220h160v-160H400v160Zm0 220h160v-160H400v160ZM180-400h160v-160H180v160Zm440 0h160v-160H620v160ZM180-180h160v-160H180v160Zm440 0h160v-160H620v160Z\"/>\n",
              "  </svg>\n",
              "    </button>\n",
              "\n",
              "  <style>\n",
              "    .colab-df-container {\n",
              "      display:flex;\n",
              "      gap: 12px;\n",
              "    }\n",
              "\n",
              "    .colab-df-convert {\n",
              "      background-color: #E8F0FE;\n",
              "      border: none;\n",
              "      border-radius: 50%;\n",
              "      cursor: pointer;\n",
              "      display: none;\n",
              "      fill: #1967D2;\n",
              "      height: 32px;\n",
              "      padding: 0 0 0 0;\n",
              "      width: 32px;\n",
              "    }\n",
              "\n",
              "    .colab-df-convert:hover {\n",
              "      background-color: #E2EBFA;\n",
              "      box-shadow: 0px 1px 2px rgba(60, 64, 67, 0.3), 0px 1px 3px 1px rgba(60, 64, 67, 0.15);\n",
              "      fill: #174EA6;\n",
              "    }\n",
              "\n",
              "    .colab-df-buttons div {\n",
              "      margin-bottom: 4px;\n",
              "    }\n",
              "\n",
              "    [theme=dark] .colab-df-convert {\n",
              "      background-color: #3B4455;\n",
              "      fill: #D2E3FC;\n",
              "    }\n",
              "\n",
              "    [theme=dark] .colab-df-convert:hover {\n",
              "      background-color: #434B5C;\n",
              "      box-shadow: 0px 1px 3px 1px rgba(0, 0, 0, 0.15);\n",
              "      filter: drop-shadow(0px 1px 2px rgba(0, 0, 0, 0.3));\n",
              "      fill: #FFFFFF;\n",
              "    }\n",
              "  </style>\n",
              "\n",
              "    <script>\n",
              "      const buttonEl =\n",
              "        document.querySelector('#df-a31bab27-d41a-44fd-9165-73919f4b4e17 button.colab-df-convert');\n",
              "      buttonEl.style.display =\n",
              "        google.colab.kernel.accessAllowed ? 'block' : 'none';\n",
              "\n",
              "      async function convertToInteractive(key) {\n",
              "        const element = document.querySelector('#df-a31bab27-d41a-44fd-9165-73919f4b4e17');\n",
              "        const dataTable =\n",
              "          await google.colab.kernel.invokeFunction('convertToInteractive',\n",
              "                                                    [key], {});\n",
              "        if (!dataTable) return;\n",
              "\n",
              "        const docLinkHtml = 'Like what you see? Visit the ' +\n",
              "          '<a target=\"_blank\" href=https://colab.research.google.com/notebooks/data_table.ipynb>data table notebook</a>'\n",
              "          + ' to learn more about interactive tables.';\n",
              "        element.innerHTML = '';\n",
              "        dataTable['output_type'] = 'display_data';\n",
              "        await google.colab.output.renderOutput(dataTable, element);\n",
              "        const docLink = document.createElement('div');\n",
              "        docLink.innerHTML = docLinkHtml;\n",
              "        element.appendChild(docLink);\n",
              "      }\n",
              "    </script>\n",
              "  </div>\n",
              "\n",
              "\n",
              "<div id=\"df-f2eef02a-bfd0-446b-ad4b-454803ec6c3b\">\n",
              "  <button class=\"colab-df-quickchart\" onclick=\"quickchart('df-f2eef02a-bfd0-446b-ad4b-454803ec6c3b')\"\n",
              "            title=\"Suggest charts\"\n",
              "            style=\"display:none;\">\n",
              "\n",
              "<svg xmlns=\"http://www.w3.org/2000/svg\" height=\"24px\"viewBox=\"0 0 24 24\"\n",
              "     width=\"24px\">\n",
              "    <g>\n",
              "        <path d=\"M19 3H5c-1.1 0-2 .9-2 2v14c0 1.1.9 2 2 2h14c1.1 0 2-.9 2-2V5c0-1.1-.9-2-2-2zM9 17H7v-7h2v7zm4 0h-2V7h2v10zm4 0h-2v-4h2v4z\"/>\n",
              "    </g>\n",
              "</svg>\n",
              "  </button>\n",
              "\n",
              "<style>\n",
              "  .colab-df-quickchart {\n",
              "      --bg-color: #E8F0FE;\n",
              "      --fill-color: #1967D2;\n",
              "      --hover-bg-color: #E2EBFA;\n",
              "      --hover-fill-color: #174EA6;\n",
              "      --disabled-fill-color: #AAA;\n",
              "      --disabled-bg-color: #DDD;\n",
              "  }\n",
              "\n",
              "  [theme=dark] .colab-df-quickchart {\n",
              "      --bg-color: #3B4455;\n",
              "      --fill-color: #D2E3FC;\n",
              "      --hover-bg-color: #434B5C;\n",
              "      --hover-fill-color: #FFFFFF;\n",
              "      --disabled-bg-color: #3B4455;\n",
              "      --disabled-fill-color: #666;\n",
              "  }\n",
              "\n",
              "  .colab-df-quickchart {\n",
              "    background-color: var(--bg-color);\n",
              "    border: none;\n",
              "    border-radius: 50%;\n",
              "    cursor: pointer;\n",
              "    display: none;\n",
              "    fill: var(--fill-color);\n",
              "    height: 32px;\n",
              "    padding: 0;\n",
              "    width: 32px;\n",
              "  }\n",
              "\n",
              "  .colab-df-quickchart:hover {\n",
              "    background-color: var(--hover-bg-color);\n",
              "    box-shadow: 0 1px 2px rgba(60, 64, 67, 0.3), 0 1px 3px 1px rgba(60, 64, 67, 0.15);\n",
              "    fill: var(--button-hover-fill-color);\n",
              "  }\n",
              "\n",
              "  .colab-df-quickchart-complete:disabled,\n",
              "  .colab-df-quickchart-complete:disabled:hover {\n",
              "    background-color: var(--disabled-bg-color);\n",
              "    fill: var(--disabled-fill-color);\n",
              "    box-shadow: none;\n",
              "  }\n",
              "\n",
              "  .colab-df-spinner {\n",
              "    border: 2px solid var(--fill-color);\n",
              "    border-color: transparent;\n",
              "    border-bottom-color: var(--fill-color);\n",
              "    animation:\n",
              "      spin 1s steps(1) infinite;\n",
              "  }\n",
              "\n",
              "  @keyframes spin {\n",
              "    0% {\n",
              "      border-color: transparent;\n",
              "      border-bottom-color: var(--fill-color);\n",
              "      border-left-color: var(--fill-color);\n",
              "    }\n",
              "    20% {\n",
              "      border-color: transparent;\n",
              "      border-left-color: var(--fill-color);\n",
              "      border-top-color: var(--fill-color);\n",
              "    }\n",
              "    30% {\n",
              "      border-color: transparent;\n",
              "      border-left-color: var(--fill-color);\n",
              "      border-top-color: var(--fill-color);\n",
              "      border-right-color: var(--fill-color);\n",
              "    }\n",
              "    40% {\n",
              "      border-color: transparent;\n",
              "      border-right-color: var(--fill-color);\n",
              "      border-top-color: var(--fill-color);\n",
              "    }\n",
              "    60% {\n",
              "      border-color: transparent;\n",
              "      border-right-color: var(--fill-color);\n",
              "    }\n",
              "    80% {\n",
              "      border-color: transparent;\n",
              "      border-right-color: var(--fill-color);\n",
              "      border-bottom-color: var(--fill-color);\n",
              "    }\n",
              "    90% {\n",
              "      border-color: transparent;\n",
              "      border-bottom-color: var(--fill-color);\n",
              "    }\n",
              "  }\n",
              "</style>\n",
              "\n",
              "  <script>\n",
              "    async function quickchart(key) {\n",
              "      const quickchartButtonEl =\n",
              "        document.querySelector('#' + key + ' button');\n",
              "      quickchartButtonEl.disabled = true;  // To prevent multiple clicks.\n",
              "      quickchartButtonEl.classList.add('colab-df-spinner');\n",
              "      try {\n",
              "        const charts = await google.colab.kernel.invokeFunction(\n",
              "            'suggestCharts', [key], {});\n",
              "      } catch (error) {\n",
              "        console.error('Error during call to suggestCharts:', error);\n",
              "      }\n",
              "      quickchartButtonEl.classList.remove('colab-df-spinner');\n",
              "      quickchartButtonEl.classList.add('colab-df-quickchart-complete');\n",
              "    }\n",
              "    (() => {\n",
              "      let quickchartButtonEl =\n",
              "        document.querySelector('#df-f2eef02a-bfd0-446b-ad4b-454803ec6c3b button');\n",
              "      quickchartButtonEl.style.display =\n",
              "        google.colab.kernel.accessAllowed ? 'block' : 'none';\n",
              "    })();\n",
              "  </script>\n",
              "</div>\n",
              "\n",
              "    </div>\n",
              "  </div>\n"
            ],
            "application/vnd.google.colaboratory.intrinsic+json": {
              "type": "dataframe",
              "summary": "{\n  \"name\": \"df\",\n  \"rows\": 8,\n  \"fields\": [\n    {\n      \"column\": \"age\",\n      \"properties\": {\n        \"dtype\": \"number\",\n        \"std\": 3931.9910823606933,\n        \"min\": 11.913369192215445,\n        \"max\": 11162.0,\n        \"num_unique_values\": 8,\n        \"samples\": [\n          41.231947679627304,\n          39.0,\n          11162.0\n        ],\n        \"semantic_type\": \"\",\n        \"description\": \"\"\n      }\n    },\n    {\n      \"column\": \"balance\",\n      \"properties\": {\n        \"dtype\": \"number\",\n        \"std\": 28556.871708269126,\n        \"min\": -6847.0,\n        \"max\": 81204.0,\n        \"num_unique_values\": 8,\n        \"samples\": [\n          1528.5385235620856,\n          550.0,\n          11162.0\n        ],\n        \"semantic_type\": \"\",\n        \"description\": \"\"\n      }\n    },\n    {\n      \"column\": \"day\",\n      \"properties\": {\n        \"dtype\": \"number\",\n        \"std\": 3941.2684170092043,\n        \"min\": 1.0,\n        \"max\": 11162.0,\n        \"num_unique_values\": 8,\n        \"samples\": [\n          15.658036194230425,\n          15.0,\n          11162.0\n        ],\n        \"semantic_type\": \"\",\n        \"description\": \"\"\n      }\n    },\n    {\n      \"column\": \"duration\",\n      \"properties\": {\n        \"dtype\": \"number\",\n        \"std\": 3883.583794535372,\n        \"min\": 2.0,\n        \"max\": 11162.0,\n        \"num_unique_values\": 8,\n        \"samples\": [\n          371.99381831213043,\n          255.0,\n          11162.0\n        ],\n        \"semantic_type\": \"\",\n        \"description\": \"\"\n      }\n    },\n    {\n      \"column\": \"campaign\",\n      \"properties\": {\n        \"dtype\": \"number\",\n        \"std\": 3942.62101077111,\n        \"min\": 1.0,\n        \"max\": 11162.0,\n        \"num_unique_values\": 7,\n        \"samples\": [\n          11162.0,\n          2.508421429851281,\n          3.0\n        ],\n        \"semantic_type\": \"\",\n        \"description\": \"\"\n      }\n    },\n    {\n      \"column\": \"pdays\",\n      \"properties\": {\n        \"dtype\": \"number\",\n        \"std\": 3905.0927186956947,\n        \"min\": -1.0,\n        \"max\": 11162.0,\n        \"num_unique_values\": 6,\n        \"samples\": [\n          11162.0,\n          51.33040673714388,\n          854.0\n        ],\n        \"semantic_type\": \"\",\n        \"description\": \"\"\n      }\n    },\n    {\n      \"column\": \"previous\",\n      \"properties\": {\n        \"dtype\": \"number\",\n        \"std\": 3943.2762559943403,\n        \"min\": 0.0,\n        \"max\": 11162.0,\n        \"num_unique_values\": 6,\n        \"samples\": [\n          11162.0,\n          0.8325568894463358,\n          58.0\n        ],\n        \"semantic_type\": \"\",\n        \"description\": \"\"\n      }\n    }\n  ]\n}"
            }
          },
          "metadata": {},
          "execution_count": 4
        }
      ]
    },
    {
      "cell_type": "code",
      "source": [
        "df.dtypes"
      ],
      "metadata": {
        "colab": {
          "base_uri": "https://localhost:8080/",
          "height": 617
        },
        "id": "u_fK-uecfoPG",
        "outputId": "69fda83b-3def-4a4b-b9e5-d8933eca68e7"
      },
      "execution_count": null,
      "outputs": [
        {
          "output_type": "execute_result",
          "data": {
            "text/plain": [
              "age           int64\n",
              "job          object\n",
              "marital      object\n",
              "education    object\n",
              "default      object\n",
              "balance       int64\n",
              "housing      object\n",
              "loan         object\n",
              "contact      object\n",
              "day           int64\n",
              "month        object\n",
              "duration      int64\n",
              "campaign      int64\n",
              "pdays         int64\n",
              "previous      int64\n",
              "poutcome     object\n",
              "deposit      object\n",
              "dtype: object"
            ],
            "text/html": [
              "<div>\n",
              "<style scoped>\n",
              "    .dataframe tbody tr th:only-of-type {\n",
              "        vertical-align: middle;\n",
              "    }\n",
              "\n",
              "    .dataframe tbody tr th {\n",
              "        vertical-align: top;\n",
              "    }\n",
              "\n",
              "    .dataframe thead th {\n",
              "        text-align: right;\n",
              "    }\n",
              "</style>\n",
              "<table border=\"1\" class=\"dataframe\">\n",
              "  <thead>\n",
              "    <tr style=\"text-align: right;\">\n",
              "      <th></th>\n",
              "      <th>0</th>\n",
              "    </tr>\n",
              "  </thead>\n",
              "  <tbody>\n",
              "    <tr>\n",
              "      <th>age</th>\n",
              "      <td>int64</td>\n",
              "    </tr>\n",
              "    <tr>\n",
              "      <th>job</th>\n",
              "      <td>object</td>\n",
              "    </tr>\n",
              "    <tr>\n",
              "      <th>marital</th>\n",
              "      <td>object</td>\n",
              "    </tr>\n",
              "    <tr>\n",
              "      <th>education</th>\n",
              "      <td>object</td>\n",
              "    </tr>\n",
              "    <tr>\n",
              "      <th>default</th>\n",
              "      <td>object</td>\n",
              "    </tr>\n",
              "    <tr>\n",
              "      <th>balance</th>\n",
              "      <td>int64</td>\n",
              "    </tr>\n",
              "    <tr>\n",
              "      <th>housing</th>\n",
              "      <td>object</td>\n",
              "    </tr>\n",
              "    <tr>\n",
              "      <th>loan</th>\n",
              "      <td>object</td>\n",
              "    </tr>\n",
              "    <tr>\n",
              "      <th>contact</th>\n",
              "      <td>object</td>\n",
              "    </tr>\n",
              "    <tr>\n",
              "      <th>day</th>\n",
              "      <td>int64</td>\n",
              "    </tr>\n",
              "    <tr>\n",
              "      <th>month</th>\n",
              "      <td>object</td>\n",
              "    </tr>\n",
              "    <tr>\n",
              "      <th>duration</th>\n",
              "      <td>int64</td>\n",
              "    </tr>\n",
              "    <tr>\n",
              "      <th>campaign</th>\n",
              "      <td>int64</td>\n",
              "    </tr>\n",
              "    <tr>\n",
              "      <th>pdays</th>\n",
              "      <td>int64</td>\n",
              "    </tr>\n",
              "    <tr>\n",
              "      <th>previous</th>\n",
              "      <td>int64</td>\n",
              "    </tr>\n",
              "    <tr>\n",
              "      <th>poutcome</th>\n",
              "      <td>object</td>\n",
              "    </tr>\n",
              "    <tr>\n",
              "      <th>deposit</th>\n",
              "      <td>object</td>\n",
              "    </tr>\n",
              "  </tbody>\n",
              "</table>\n",
              "</div><br><label><b>dtype:</b> object</label>"
            ]
          },
          "metadata": {},
          "execution_count": 5
        }
      ]
    },
    {
      "cell_type": "code",
      "source": [
        "#Showing all the values for object columns and a sample of 5 unique values for int64 columns\n",
        "for col in df.columns:\n",
        "    if df[col].dtype == \"object\":\n",
        "        print(f\"{col}: {df[col].unique()}\")\n",
        "    else:\n",
        "        print(f\"{col}: {df[col].unique()[:5]}\")"
      ],
      "metadata": {
        "colab": {
          "base_uri": "https://localhost:8080/"
        },
        "id": "G3TXaY8pgK8T",
        "outputId": "ba055ef8-01f3-4735-e591-1043eca09e04"
      },
      "execution_count": null,
      "outputs": [
        {
          "output_type": "stream",
          "name": "stdout",
          "text": [
            "age: [59 56 41 55 54]\n",
            "job: ['admin.' 'technician' 'services' 'management' 'retired' 'blue-collar'\n",
            " 'unemployed' 'entrepreneur' 'housemaid' 'unknown' 'self-employed'\n",
            " 'student']\n",
            "marital: ['married' 'single' 'divorced']\n",
            "education: ['secondary' 'tertiary' 'primary' 'unknown']\n",
            "default: ['no' 'yes']\n",
            "balance: [2343   45 1270 2476  184]\n",
            "housing: ['yes' 'no']\n",
            "loan: ['no' 'yes']\n",
            "contact: ['unknown' 'cellular' 'telephone']\n",
            "day: [5 6 7 8 9]\n",
            "month: ['may' 'jun' 'jul' 'aug' 'oct' 'nov' 'dec' 'jan' 'feb' 'mar' 'apr' 'sep']\n",
            "duration: [1042 1467 1389  579  673]\n",
            "campaign: [1 2 3 4 6]\n",
            "pdays: [ -1 166  91 147 170]\n",
            "previous: [0 1 4 2 3]\n",
            "poutcome: ['unknown' 'other' 'failure' 'success']\n",
            "deposit: ['yes' 'no']\n"
          ]
        }
      ]
    },
    {
      "cell_type": "markdown",
      "source": [
        "##Data Preparation"
      ],
      "metadata": {
        "id": "GlfBZDZvjNT2"
      }
    },
    {
      "cell_type": "code",
      "source": [
        "#Converting default, housing,loan, and deposit into binary columns (0 or 1)\n",
        "df['default'] = df['default'].map({'no': 0, 'yes': 1})\n",
        "df['housing'] = df['housing'].map({'no': 0, 'yes': 1})\n",
        "df['loan'] = df['loan'].map({'no': 0, 'yes': 1})\n",
        "df['deposit'] = df['deposit'].map({'no': 0, 'yes': 1})"
      ],
      "metadata": {
        "id": "WbElgAs-fWJt"
      },
      "execution_count": null,
      "outputs": []
    },
    {
      "cell_type": "code",
      "source": [
        "#Splitting our train and test dataset\n",
        "train_df, test_df = train_test_split(df, test_size=0.2, random_state=42)\n",
        "\n",
        "test_df_copy = test_df.copy()"
      ],
      "metadata": {
        "id": "YKuAeVvukVBg"
      },
      "execution_count": null,
      "outputs": []
    },
    {
      "cell_type": "code",
      "source": [
        "train_labels = train_df['deposit']\n",
        "test_labels = test_df['deposit']\n",
        "\n",
        "\n",
        "train_df = train_df.drop(columns=['deposit'])\n",
        "test_df = test_df.drop(columns=['deposit'])"
      ],
      "metadata": {
        "id": "16QllG_ulr2q"
      },
      "execution_count": null,
      "outputs": []
    },
    {
      "cell_type": "markdown",
      "source": [
        "###One-Hot Encoding"
      ],
      "metadata": {
        "id": "B0xwCrXmnHDs"
      }
    },
    {
      "cell_type": "markdown",
      "source": [
        "From our df.info we can see that there are multiple non numeric features"
      ],
      "metadata": {
        "id": "ahn44qXPjldk"
      }
    },
    {
      "cell_type": "code",
      "source": [
        "#Combining both dataframes\n",
        "features=pd.concat(objs=[train_df,test_df],axis=0)\n",
        "\n",
        "numeric_features = features.dtypes[features.dtypes != 'object'].index\n",
        "non_numeric_features = features.dtypes[features.dtypes == 'object'].index\n",
        "numeric_features, non_numeric_features"
      ],
      "metadata": {
        "colab": {
          "base_uri": "https://localhost:8080/"
        },
        "id": "6iqOhh04jWfJ",
        "outputId": "6d127c8f-af15-4237-9ac6-38ae2871277d"
      },
      "execution_count": null,
      "outputs": [
        {
          "output_type": "execute_result",
          "data": {
            "text/plain": [
              "(Index(['age', 'default', 'balance', 'housing', 'loan', 'day', 'duration',\n",
              "        'campaign', 'pdays', 'previous'],\n",
              "       dtype='object'),\n",
              " Index(['job', 'marital', 'education', 'contact', 'month', 'poutcome'], dtype='object'))"
            ]
          },
          "metadata": {},
          "execution_count": 10
        }
      ]
    },
    {
      "cell_type": "code",
      "source": [
        "features = pd.get_dummies(features, columns=non_numeric_features)"
      ],
      "metadata": {
        "id": "Em1DpDGRnMcm"
      },
      "execution_count": null,
      "outputs": []
    },
    {
      "cell_type": "code",
      "source": [
        "# Standardize numeric features\n",
        "features[numeric_features] = features[numeric_features].apply(lambda x: (x - x.mean()) / (x.std()))"
      ],
      "metadata": {
        "id": "hn9o9JoQnTi1"
      },
      "execution_count": null,
      "outputs": []
    },
    {
      "cell_type": "code",
      "source": [
        "# recheck the mean and std after standardization\n",
        "features[numeric_features].mean(), features[numeric_features].std()"
      ],
      "metadata": {
        "colab": {
          "base_uri": "https://localhost:8080/"
        },
        "id": "sPOnIrm9nVgq",
        "outputId": "6a135601-2bbc-40e2-b7d8-8b069d618763"
      },
      "execution_count": null,
      "outputs": [
        {
          "output_type": "execute_result",
          "data": {
            "text/plain": [
              "(age         2.743629e-16\n",
              " default    -1.177660e-17\n",
              " balance     1.623261e-17\n",
              " housing    -1.145831e-17\n",
              " loan       -4.456011e-18\n",
              " day        -1.846062e-17\n",
              " duration    4.456011e-17\n",
              " campaign    5.729157e-18\n",
              " pdays      -1.145831e-17\n",
              " previous   -8.912021e-18\n",
              " dtype: float64,\n",
              " age         1.0\n",
              " default     1.0\n",
              " balance     1.0\n",
              " housing     1.0\n",
              " loan        1.0\n",
              " day         1.0\n",
              " duration    1.0\n",
              " campaign    1.0\n",
              " pdays       1.0\n",
              " previous    1.0\n",
              " dtype: float64)"
            ]
          },
          "metadata": {},
          "execution_count": 13
        }
      ]
    },
    {
      "cell_type": "code",
      "source": [
        "#Number of features\n",
        "features.shape"
      ],
      "metadata": {
        "colab": {
          "base_uri": "https://localhost:8080/"
        },
        "id": "d11ndhfanj-b",
        "outputId": "d9a125ab-f83a-4181-d352-8196ce7c4a15"
      },
      "execution_count": null,
      "outputs": [
        {
          "output_type": "execute_result",
          "data": {
            "text/plain": [
              "(11162, 48)"
            ]
          },
          "metadata": {},
          "execution_count": 14
        }
      ]
    },
    {
      "cell_type": "code",
      "source": [
        "features.head()"
      ],
      "metadata": {
        "colab": {
          "base_uri": "https://localhost:8080/",
          "height": 236
        },
        "id": "RaGkL0dmIDtu",
        "outputId": "7d4d6fec-9386-445d-9e1b-186e86d4b3bc"
      },
      "execution_count": null,
      "outputs": [
        {
          "output_type": "execute_result",
          "data": {
            "text/plain": [
              "            age   default   balance   housing      loan       day  duration  \\\n",
              "3955  -1.110681 -0.123611  1.306022 -0.947574 -0.387906 -0.671917  1.930139   \n",
              "11150 -0.607045 -0.123611 -0.363841 -0.947574 -0.387906  0.634382 -0.167067   \n",
              "5173   0.568106 -0.123611 -0.411587 -0.947574 -0.387906 -0.671917  0.639551   \n",
              "3017   0.987802 -0.123611  0.134079 -0.947574 -0.387906 -0.078145 -0.060479   \n",
              "2910   0.987802 -0.123611  0.029597 -0.947574 -0.387906 -0.553162 -0.593423   \n",
              "\n",
              "       campaign     pdays  previous  ...  month_jun  month_mar  month_may  \\\n",
              "3955   0.915323  1.366973  0.945653  ...      False      False      False   \n",
              "11150  0.180590 -0.481162 -0.363244  ...      False      False      False   \n",
              "5173  -0.554144  0.364750  0.073055  ...      False      False      False   \n",
              "3017  -0.554144 -0.481162 -0.363244  ...      False      False      False   \n",
              "2910   0.180590  0.419918  2.690848  ...      False      False      False   \n",
              "\n",
              "       month_nov  month_oct  month_sep  poutcome_failure  poutcome_other  \\\n",
              "3955       False      False       True              True           False   \n",
              "11150      False      False      False             False           False   \n",
              "5173        True      False      False             False           False   \n",
              "3017       False      False      False             False           False   \n",
              "2910        True      False      False             False           False   \n",
              "\n",
              "       poutcome_success  poutcome_unknown  \n",
              "3955              False             False  \n",
              "11150             False              True  \n",
              "5173               True             False  \n",
              "3017              False              True  \n",
              "2910               True             False  \n",
              "\n",
              "[5 rows x 48 columns]"
            ],
            "text/html": [
              "\n",
              "  <div id=\"df-6b07622c-7376-4236-9dcb-4ac0894659c8\" class=\"colab-df-container\">\n",
              "    <div>\n",
              "<style scoped>\n",
              "    .dataframe tbody tr th:only-of-type {\n",
              "        vertical-align: middle;\n",
              "    }\n",
              "\n",
              "    .dataframe tbody tr th {\n",
              "        vertical-align: top;\n",
              "    }\n",
              "\n",
              "    .dataframe thead th {\n",
              "        text-align: right;\n",
              "    }\n",
              "</style>\n",
              "<table border=\"1\" class=\"dataframe\">\n",
              "  <thead>\n",
              "    <tr style=\"text-align: right;\">\n",
              "      <th></th>\n",
              "      <th>age</th>\n",
              "      <th>default</th>\n",
              "      <th>balance</th>\n",
              "      <th>housing</th>\n",
              "      <th>loan</th>\n",
              "      <th>day</th>\n",
              "      <th>duration</th>\n",
              "      <th>campaign</th>\n",
              "      <th>pdays</th>\n",
              "      <th>previous</th>\n",
              "      <th>...</th>\n",
              "      <th>month_jun</th>\n",
              "      <th>month_mar</th>\n",
              "      <th>month_may</th>\n",
              "      <th>month_nov</th>\n",
              "      <th>month_oct</th>\n",
              "      <th>month_sep</th>\n",
              "      <th>poutcome_failure</th>\n",
              "      <th>poutcome_other</th>\n",
              "      <th>poutcome_success</th>\n",
              "      <th>poutcome_unknown</th>\n",
              "    </tr>\n",
              "  </thead>\n",
              "  <tbody>\n",
              "    <tr>\n",
              "      <th>3955</th>\n",
              "      <td>-1.110681</td>\n",
              "      <td>-0.123611</td>\n",
              "      <td>1.306022</td>\n",
              "      <td>-0.947574</td>\n",
              "      <td>-0.387906</td>\n",
              "      <td>-0.671917</td>\n",
              "      <td>1.930139</td>\n",
              "      <td>0.915323</td>\n",
              "      <td>1.366973</td>\n",
              "      <td>0.945653</td>\n",
              "      <td>...</td>\n",
              "      <td>False</td>\n",
              "      <td>False</td>\n",
              "      <td>False</td>\n",
              "      <td>False</td>\n",
              "      <td>False</td>\n",
              "      <td>True</td>\n",
              "      <td>True</td>\n",
              "      <td>False</td>\n",
              "      <td>False</td>\n",
              "      <td>False</td>\n",
              "    </tr>\n",
              "    <tr>\n",
              "      <th>11150</th>\n",
              "      <td>-0.607045</td>\n",
              "      <td>-0.123611</td>\n",
              "      <td>-0.363841</td>\n",
              "      <td>-0.947574</td>\n",
              "      <td>-0.387906</td>\n",
              "      <td>0.634382</td>\n",
              "      <td>-0.167067</td>\n",
              "      <td>0.180590</td>\n",
              "      <td>-0.481162</td>\n",
              "      <td>-0.363244</td>\n",
              "      <td>...</td>\n",
              "      <td>False</td>\n",
              "      <td>False</td>\n",
              "      <td>False</td>\n",
              "      <td>False</td>\n",
              "      <td>False</td>\n",
              "      <td>False</td>\n",
              "      <td>False</td>\n",
              "      <td>False</td>\n",
              "      <td>False</td>\n",
              "      <td>True</td>\n",
              "    </tr>\n",
              "    <tr>\n",
              "      <th>5173</th>\n",
              "      <td>0.568106</td>\n",
              "      <td>-0.123611</td>\n",
              "      <td>-0.411587</td>\n",
              "      <td>-0.947574</td>\n",
              "      <td>-0.387906</td>\n",
              "      <td>-0.671917</td>\n",
              "      <td>0.639551</td>\n",
              "      <td>-0.554144</td>\n",
              "      <td>0.364750</td>\n",
              "      <td>0.073055</td>\n",
              "      <td>...</td>\n",
              "      <td>False</td>\n",
              "      <td>False</td>\n",
              "      <td>False</td>\n",
              "      <td>True</td>\n",
              "      <td>False</td>\n",
              "      <td>False</td>\n",
              "      <td>False</td>\n",
              "      <td>False</td>\n",
              "      <td>True</td>\n",
              "      <td>False</td>\n",
              "    </tr>\n",
              "    <tr>\n",
              "      <th>3017</th>\n",
              "      <td>0.987802</td>\n",
              "      <td>-0.123611</td>\n",
              "      <td>0.134079</td>\n",
              "      <td>-0.947574</td>\n",
              "      <td>-0.387906</td>\n",
              "      <td>-0.078145</td>\n",
              "      <td>-0.060479</td>\n",
              "      <td>-0.554144</td>\n",
              "      <td>-0.481162</td>\n",
              "      <td>-0.363244</td>\n",
              "      <td>...</td>\n",
              "      <td>False</td>\n",
              "      <td>False</td>\n",
              "      <td>False</td>\n",
              "      <td>False</td>\n",
              "      <td>False</td>\n",
              "      <td>False</td>\n",
              "      <td>False</td>\n",
              "      <td>False</td>\n",
              "      <td>False</td>\n",
              "      <td>True</td>\n",
              "    </tr>\n",
              "    <tr>\n",
              "      <th>2910</th>\n",
              "      <td>0.987802</td>\n",
              "      <td>-0.123611</td>\n",
              "      <td>0.029597</td>\n",
              "      <td>-0.947574</td>\n",
              "      <td>-0.387906</td>\n",
              "      <td>-0.553162</td>\n",
              "      <td>-0.593423</td>\n",
              "      <td>0.180590</td>\n",
              "      <td>0.419918</td>\n",
              "      <td>2.690848</td>\n",
              "      <td>...</td>\n",
              "      <td>False</td>\n",
              "      <td>False</td>\n",
              "      <td>False</td>\n",
              "      <td>True</td>\n",
              "      <td>False</td>\n",
              "      <td>False</td>\n",
              "      <td>False</td>\n",
              "      <td>False</td>\n",
              "      <td>True</td>\n",
              "      <td>False</td>\n",
              "    </tr>\n",
              "  </tbody>\n",
              "</table>\n",
              "<p>5 rows × 48 columns</p>\n",
              "</div>\n",
              "    <div class=\"colab-df-buttons\">\n",
              "\n",
              "  <div class=\"colab-df-container\">\n",
              "    <button class=\"colab-df-convert\" onclick=\"convertToInteractive('df-6b07622c-7376-4236-9dcb-4ac0894659c8')\"\n",
              "            title=\"Convert this dataframe to an interactive table.\"\n",
              "            style=\"display:none;\">\n",
              "\n",
              "  <svg xmlns=\"http://www.w3.org/2000/svg\" height=\"24px\" viewBox=\"0 -960 960 960\">\n",
              "    <path d=\"M120-120v-720h720v720H120Zm60-500h600v-160H180v160Zm220 220h160v-160H400v160Zm0 220h160v-160H400v160ZM180-400h160v-160H180v160Zm440 0h160v-160H620v160ZM180-180h160v-160H180v160Zm440 0h160v-160H620v160Z\"/>\n",
              "  </svg>\n",
              "    </button>\n",
              "\n",
              "  <style>\n",
              "    .colab-df-container {\n",
              "      display:flex;\n",
              "      gap: 12px;\n",
              "    }\n",
              "\n",
              "    .colab-df-convert {\n",
              "      background-color: #E8F0FE;\n",
              "      border: none;\n",
              "      border-radius: 50%;\n",
              "      cursor: pointer;\n",
              "      display: none;\n",
              "      fill: #1967D2;\n",
              "      height: 32px;\n",
              "      padding: 0 0 0 0;\n",
              "      width: 32px;\n",
              "    }\n",
              "\n",
              "    .colab-df-convert:hover {\n",
              "      background-color: #E2EBFA;\n",
              "      box-shadow: 0px 1px 2px rgba(60, 64, 67, 0.3), 0px 1px 3px 1px rgba(60, 64, 67, 0.15);\n",
              "      fill: #174EA6;\n",
              "    }\n",
              "\n",
              "    .colab-df-buttons div {\n",
              "      margin-bottom: 4px;\n",
              "    }\n",
              "\n",
              "    [theme=dark] .colab-df-convert {\n",
              "      background-color: #3B4455;\n",
              "      fill: #D2E3FC;\n",
              "    }\n",
              "\n",
              "    [theme=dark] .colab-df-convert:hover {\n",
              "      background-color: #434B5C;\n",
              "      box-shadow: 0px 1px 3px 1px rgba(0, 0, 0, 0.15);\n",
              "      filter: drop-shadow(0px 1px 2px rgba(0, 0, 0, 0.3));\n",
              "      fill: #FFFFFF;\n",
              "    }\n",
              "  </style>\n",
              "\n",
              "    <script>\n",
              "      const buttonEl =\n",
              "        document.querySelector('#df-6b07622c-7376-4236-9dcb-4ac0894659c8 button.colab-df-convert');\n",
              "      buttonEl.style.display =\n",
              "        google.colab.kernel.accessAllowed ? 'block' : 'none';\n",
              "\n",
              "      async function convertToInteractive(key) {\n",
              "        const element = document.querySelector('#df-6b07622c-7376-4236-9dcb-4ac0894659c8');\n",
              "        const dataTable =\n",
              "          await google.colab.kernel.invokeFunction('convertToInteractive',\n",
              "                                                    [key], {});\n",
              "        if (!dataTable) return;\n",
              "\n",
              "        const docLinkHtml = 'Like what you see? Visit the ' +\n",
              "          '<a target=\"_blank\" href=https://colab.research.google.com/notebooks/data_table.ipynb>data table notebook</a>'\n",
              "          + ' to learn more about interactive tables.';\n",
              "        element.innerHTML = '';\n",
              "        dataTable['output_type'] = 'display_data';\n",
              "        await google.colab.output.renderOutput(dataTable, element);\n",
              "        const docLink = document.createElement('div');\n",
              "        docLink.innerHTML = docLinkHtml;\n",
              "        element.appendChild(docLink);\n",
              "      }\n",
              "    </script>\n",
              "  </div>\n",
              "\n",
              "\n",
              "<div id=\"df-53d0b989-7555-42dd-90b1-bf8fd4d19de1\">\n",
              "  <button class=\"colab-df-quickchart\" onclick=\"quickchart('df-53d0b989-7555-42dd-90b1-bf8fd4d19de1')\"\n",
              "            title=\"Suggest charts\"\n",
              "            style=\"display:none;\">\n",
              "\n",
              "<svg xmlns=\"http://www.w3.org/2000/svg\" height=\"24px\"viewBox=\"0 0 24 24\"\n",
              "     width=\"24px\">\n",
              "    <g>\n",
              "        <path d=\"M19 3H5c-1.1 0-2 .9-2 2v14c0 1.1.9 2 2 2h14c1.1 0 2-.9 2-2V5c0-1.1-.9-2-2-2zM9 17H7v-7h2v7zm4 0h-2V7h2v10zm4 0h-2v-4h2v4z\"/>\n",
              "    </g>\n",
              "</svg>\n",
              "  </button>\n",
              "\n",
              "<style>\n",
              "  .colab-df-quickchart {\n",
              "      --bg-color: #E8F0FE;\n",
              "      --fill-color: #1967D2;\n",
              "      --hover-bg-color: #E2EBFA;\n",
              "      --hover-fill-color: #174EA6;\n",
              "      --disabled-fill-color: #AAA;\n",
              "      --disabled-bg-color: #DDD;\n",
              "  }\n",
              "\n",
              "  [theme=dark] .colab-df-quickchart {\n",
              "      --bg-color: #3B4455;\n",
              "      --fill-color: #D2E3FC;\n",
              "      --hover-bg-color: #434B5C;\n",
              "      --hover-fill-color: #FFFFFF;\n",
              "      --disabled-bg-color: #3B4455;\n",
              "      --disabled-fill-color: #666;\n",
              "  }\n",
              "\n",
              "  .colab-df-quickchart {\n",
              "    background-color: var(--bg-color);\n",
              "    border: none;\n",
              "    border-radius: 50%;\n",
              "    cursor: pointer;\n",
              "    display: none;\n",
              "    fill: var(--fill-color);\n",
              "    height: 32px;\n",
              "    padding: 0;\n",
              "    width: 32px;\n",
              "  }\n",
              "\n",
              "  .colab-df-quickchart:hover {\n",
              "    background-color: var(--hover-bg-color);\n",
              "    box-shadow: 0 1px 2px rgba(60, 64, 67, 0.3), 0 1px 3px 1px rgba(60, 64, 67, 0.15);\n",
              "    fill: var(--button-hover-fill-color);\n",
              "  }\n",
              "\n",
              "  .colab-df-quickchart-complete:disabled,\n",
              "  .colab-df-quickchart-complete:disabled:hover {\n",
              "    background-color: var(--disabled-bg-color);\n",
              "    fill: var(--disabled-fill-color);\n",
              "    box-shadow: none;\n",
              "  }\n",
              "\n",
              "  .colab-df-spinner {\n",
              "    border: 2px solid var(--fill-color);\n",
              "    border-color: transparent;\n",
              "    border-bottom-color: var(--fill-color);\n",
              "    animation:\n",
              "      spin 1s steps(1) infinite;\n",
              "  }\n",
              "\n",
              "  @keyframes spin {\n",
              "    0% {\n",
              "      border-color: transparent;\n",
              "      border-bottom-color: var(--fill-color);\n",
              "      border-left-color: var(--fill-color);\n",
              "    }\n",
              "    20% {\n",
              "      border-color: transparent;\n",
              "      border-left-color: var(--fill-color);\n",
              "      border-top-color: var(--fill-color);\n",
              "    }\n",
              "    30% {\n",
              "      border-color: transparent;\n",
              "      border-left-color: var(--fill-color);\n",
              "      border-top-color: var(--fill-color);\n",
              "      border-right-color: var(--fill-color);\n",
              "    }\n",
              "    40% {\n",
              "      border-color: transparent;\n",
              "      border-right-color: var(--fill-color);\n",
              "      border-top-color: var(--fill-color);\n",
              "    }\n",
              "    60% {\n",
              "      border-color: transparent;\n",
              "      border-right-color: var(--fill-color);\n",
              "    }\n",
              "    80% {\n",
              "      border-color: transparent;\n",
              "      border-right-color: var(--fill-color);\n",
              "      border-bottom-color: var(--fill-color);\n",
              "    }\n",
              "    90% {\n",
              "      border-color: transparent;\n",
              "      border-bottom-color: var(--fill-color);\n",
              "    }\n",
              "  }\n",
              "</style>\n",
              "\n",
              "  <script>\n",
              "    async function quickchart(key) {\n",
              "      const quickchartButtonEl =\n",
              "        document.querySelector('#' + key + ' button');\n",
              "      quickchartButtonEl.disabled = true;  // To prevent multiple clicks.\n",
              "      quickchartButtonEl.classList.add('colab-df-spinner');\n",
              "      try {\n",
              "        const charts = await google.colab.kernel.invokeFunction(\n",
              "            'suggestCharts', [key], {});\n",
              "      } catch (error) {\n",
              "        console.error('Error during call to suggestCharts:', error);\n",
              "      }\n",
              "      quickchartButtonEl.classList.remove('colab-df-spinner');\n",
              "      quickchartButtonEl.classList.add('colab-df-quickchart-complete');\n",
              "    }\n",
              "    (() => {\n",
              "      let quickchartButtonEl =\n",
              "        document.querySelector('#df-53d0b989-7555-42dd-90b1-bf8fd4d19de1 button');\n",
              "      quickchartButtonEl.style.display =\n",
              "        google.colab.kernel.accessAllowed ? 'block' : 'none';\n",
              "    })();\n",
              "  </script>\n",
              "</div>\n",
              "\n",
              "    </div>\n",
              "  </div>\n"
            ],
            "application/vnd.google.colaboratory.intrinsic+json": {
              "type": "dataframe",
              "variable_name": "features"
            }
          },
          "metadata": {},
          "execution_count": 15
        }
      ]
    },
    {
      "cell_type": "markdown",
      "source": [
        "Now we have 48 features instead of 17"
      ],
      "metadata": {
        "id": "IVy6_9OXnpO7"
      }
    },
    {
      "cell_type": "markdown",
      "source": [
        "###Feature Extraction"
      ],
      "metadata": {
        "id": "EkhsvOiEn1ax"
      }
    },
    {
      "cell_type": "code",
      "source": [
        "# we extract out the train and test features\n",
        "train_features = features.iloc[:len(train_labels)]\n",
        "test_features = features.iloc[len(train_labels):]\n",
        "train_features.shape, test_features.shape"
      ],
      "metadata": {
        "colab": {
          "base_uri": "https://localhost:8080/"
        },
        "id": "wXQtzJ2rn438",
        "outputId": "6efcc028-9801-4038-a87f-138648371987"
      },
      "execution_count": null,
      "outputs": [
        {
          "output_type": "execute_result",
          "data": {
            "text/plain": [
              "((8929, 48), (2233, 48))"
            ]
          },
          "metadata": {},
          "execution_count": 16
        }
      ]
    },
    {
      "cell_type": "code",
      "source": [
        "# Convert training features and labels to PyTorch tensors\n",
        "train_features = torch.tensor(train_features.values.astype(np.float32), dtype=torch.float32)\n",
        "test_features = torch.tensor(test_features.values.astype(np.float32), dtype=torch.float32)\n",
        "train_labels = torch.tensor(train_labels.values.reshape(-1, 1).astype(np.float32), dtype=torch.float32)\n",
        "test_labels = torch.tensor(test_labels.values.reshape(-1, 1).astype(np.float32), dtype=torch.float32)"
      ],
      "metadata": {
        "id": "D1sLW-GWobHB"
      },
      "execution_count": null,
      "outputs": []
    },
    {
      "cell_type": "code",
      "source": [
        "train_labels.shape"
      ],
      "metadata": {
        "colab": {
          "base_uri": "https://localhost:8080/"
        },
        "id": "75p5bm-Kokqj",
        "outputId": "b5d8d79b-ca30-48e5-c731-3006a0022e6a"
      },
      "execution_count": null,
      "outputs": [
        {
          "output_type": "execute_result",
          "data": {
            "text/plain": [
              "torch.Size([8929, 1])"
            ]
          },
          "metadata": {},
          "execution_count": 18
        }
      ]
    },
    {
      "cell_type": "markdown",
      "source": [
        "##Training and validation"
      ],
      "metadata": {
        "id": "omqU64MWotL8"
      }
    },
    {
      "cell_type": "markdown",
      "source": [
        "To prevent overfitting, we'll split it our training data into training and validation. We will use validation set to select the appropriate model."
      ],
      "metadata": {
        "id": "hatRMnHKo1Me"
      }
    },
    {
      "cell_type": "code",
      "source": [
        "train_indices, valid_indices, train_features, valid_features, train_labels, valid_labels = train_test_split(\n",
        "    train_df.index, train_features, train_labels, test_size=0.1, random_state=50)"
      ],
      "metadata": {
        "id": "k6PCI-hco2os"
      },
      "execution_count": null,
      "outputs": []
    },
    {
      "cell_type": "code",
      "source": [
        "print(train_features.shape)\n",
        "print(valid_features.shape)"
      ],
      "metadata": {
        "colab": {
          "base_uri": "https://localhost:8080/"
        },
        "id": "u9kRs2Tzo7og",
        "outputId": "fae32b96-594b-4a05-cd28-28d0642303fd"
      },
      "execution_count": null,
      "outputs": [
        {
          "output_type": "stream",
          "name": "stdout",
          "text": [
            "torch.Size([8036, 48])\n",
            "torch.Size([893, 48])\n"
          ]
        }
      ]
    },
    {
      "cell_type": "markdown",
      "source": [
        "Creating the DataLoader"
      ],
      "metadata": {
        "id": "6v6U4EYVpK6Z"
      }
    },
    {
      "cell_type": "code",
      "source": [
        "train_data = TensorDataset(train_features, train_labels)\n",
        "train_loader = DataLoader(train_data, batch_size=128, shuffle=True)\n",
        "valid_data = TensorDataset(valid_features, valid_labels)\n",
        "valid_loader = DataLoader(valid_data, batch_size=128, shuffle=True)"
      ],
      "metadata": {
        "id": "PjqRKPy4pE26"
      },
      "execution_count": null,
      "outputs": []
    },
    {
      "cell_type": "code",
      "source": [
        "test_data = TensorDataset(test_features)\n",
        "test_loader = DataLoader(test_data, batch_size=128, shuffle=False)"
      ],
      "metadata": {
        "id": "uFqqOc2gpSS6"
      },
      "execution_count": null,
      "outputs": []
    },
    {
      "cell_type": "code",
      "source": [
        "device = torch.device(\"cuda:0\" if torch.cuda.is_available() else \"cpu\")"
      ],
      "metadata": {
        "id": "vQIAwMA7qgWS"
      },
      "execution_count": null,
      "outputs": []
    },
    {
      "cell_type": "code",
      "source": [
        "from torch import nn, optim\n",
        "\n",
        "def train_validation(model, criterion,train_loader, valid_loader, optimizer, epochs):\n",
        "\n",
        "    steps = 0\n",
        "    train_losses, valid_losses = [], []\n",
        "    intial_validation_loss = 10000\n",
        "\n",
        "    for e in range(epochs):\n",
        "        tot_train_loss = 0\n",
        "\n",
        "\n",
        "        model.train()\n",
        "        for features, labels in train_loader:\n",
        "\n",
        "            features=features.to(device)\n",
        "            labels=labels.to(device)\n",
        "            optimizer.zero_grad()\n",
        "            log_ps = model(features)\n",
        "            loss = criterion(log_ps, labels)\n",
        "\n",
        "            loss.backward()\n",
        "            optimizer.step()\n",
        "\n",
        "            tot_train_loss += loss.item()\n",
        "        else:\n",
        "            accuracy = 0\n",
        "            tot_valid_loss = 0\n",
        "            correct_predictions = 0\n",
        "\n",
        "            with torch.no_grad():\n",
        "                model.eval()\n",
        "                for features, labels in valid_loader:\n",
        "                    # move features and labels to GPU\n",
        "                    features = features.to(device)\n",
        "                    labels = labels.to(device)\n",
        "\n",
        "                    log_ps = model(features)\n",
        "                    # calculate the loss\n",
        "                    loss = criterion(log_ps, labels)\n",
        "                    # update running validation loss\n",
        "                    tot_valid_loss += loss.item()\n",
        "\n",
        "\n",
        "                    #Count how many I classify correctly consdiering a treshold of 0.5\n",
        "                    ps=torch.sigmoid(log_ps)\n",
        "                    predictions = (ps > 0.5).float()  # Convert probabilities to binary predictions (0 or 1)\n",
        "                    correct_predictions+= (predictions == labels).float().sum()\n",
        "\n",
        "            model.train()\n",
        "            accuracy = correct_predictions / len(valid_loader.dataset)\n",
        "            train_loss =tot_train_loss/len(train_loader)\n",
        "            valid_loss = tot_valid_loss/len(valid_loader)\n",
        "            train_losses.append(train_loss)\n",
        "            valid_losses.append(valid_loss)\n",
        "\n",
        "        print(\"Epoch: {}/{}.. \".format(e, epochs),\n",
        "                    \"Training Loss: {:.3f}.. \".format(train_loss),\n",
        "                    \"Validation Loss: {:.3f}.. \".format(valid_loss),\n",
        "                    \"Validation Accuracy: {:.3f}\".format(accuracy))\n",
        "\n",
        "        #Save the best model with validation_loss\n",
        "        if valid_loss <= intial_validation_loss:\n",
        "            intial_validation_loss = valid_loss\n",
        "            torch.save(model.state_dict(), 'best_model.pth')\n",
        "\n",
        "    return train_losses, valid_losses"
      ],
      "metadata": {
        "id": "D-Va6UjVpsSQ"
      },
      "execution_count": null,
      "outputs": []
    },
    {
      "cell_type": "markdown",
      "source": [
        "##Modelling"
      ],
      "metadata": {
        "id": "ENgZLZEUHSKB"
      }
    },
    {
      "cell_type": "code",
      "source": [
        "#Model when we first started the project\n",
        "\n",
        "base_model = nn.Sequential(nn.Linear(train_features.shape[1], 512),\n",
        "                      nn.ReLU(),\n",
        "                      nn.Linear(512, 64),\n",
        "                      nn.ReLU(),\n",
        "                      nn.Linear(64,1),\n",
        "                      nn.Sigmoid())\n",
        "base_model = base_model.to(device)\n",
        "\n",
        "#Criterion for binary cases\n",
        "criterion = nn.BCEWithLogitsLoss()\n",
        "epochs = 50\n",
        "learning_rate=0.01\n",
        "optimizer = optim.Adam(base_model.parameters(), lr=learning_rate)\n",
        "\n",
        "train_losses, valid_losses = train_validation(base_model, criterion, train_loader, valid_loader, optimizer, epochs)\n",
        "\n",
        "#Plotting the training and validation Loss\n",
        "plt.plot(train_losses, label='Training Loss')\n",
        "plt.plot(valid_losses, label='Validation Loss')\n",
        "plt.xlabel('Epochs')\n",
        "plt.ylabel('Loss')\n",
        "plt.legend()\n",
        "plt.show()"
      ],
      "metadata": {
        "colab": {
          "base_uri": "https://localhost:8080/",
          "height": 1000
        },
        "id": "HumM4u9HJUkh",
        "outputId": "17ac9491-40ff-49f2-86a2-9b02c6c8d48c"
      },
      "execution_count": null,
      "outputs": [
        {
          "output_type": "stream",
          "name": "stdout",
          "text": [
            "Epoch: 0/50..  Training Loss: 0.616..  Validation Loss: 0.614..  Validation Accuracy: 0.803\n",
            "Epoch: 1/50..  Training Loss: 0.602..  Validation Loss: 0.613..  Validation Accuracy: 0.787\n",
            "Epoch: 2/50..  Training Loss: 0.598..  Validation Loss: 0.616..  Validation Accuracy: 0.828\n",
            "Epoch: 3/50..  Training Loss: 0.593..  Validation Loss: 0.608..  Validation Accuracy: 0.812\n",
            "Epoch: 4/50..  Training Loss: 0.592..  Validation Loss: 0.614..  Validation Accuracy: 0.819\n",
            "Epoch: 5/50..  Training Loss: 0.593..  Validation Loss: 0.614..  Validation Accuracy: 0.824\n",
            "Epoch: 6/50..  Training Loss: 0.589..  Validation Loss: 0.608..  Validation Accuracy: 0.823\n",
            "Epoch: 7/50..  Training Loss: 0.588..  Validation Loss: 0.609..  Validation Accuracy: 0.840\n",
            "Epoch: 8/50..  Training Loss: 0.586..  Validation Loss: 0.608..  Validation Accuracy: 0.833\n",
            "Epoch: 9/50..  Training Loss: 0.586..  Validation Loss: 0.609..  Validation Accuracy: 0.835\n",
            "Epoch: 10/50..  Training Loss: 0.586..  Validation Loss: 0.616..  Validation Accuracy: 0.824\n",
            "Epoch: 11/50..  Training Loss: 0.588..  Validation Loss: 0.605..  Validation Accuracy: 0.832\n",
            "Epoch: 12/50..  Training Loss: 0.583..  Validation Loss: 0.606..  Validation Accuracy: 0.853\n",
            "Epoch: 13/50..  Training Loss: 0.584..  Validation Loss: 0.615..  Validation Accuracy: 0.817\n",
            "Epoch: 14/50..  Training Loss: 0.585..  Validation Loss: 0.605..  Validation Accuracy: 0.835\n",
            "Epoch: 15/50..  Training Loss: 0.584..  Validation Loss: 0.602..  Validation Accuracy: 0.838\n",
            "Epoch: 16/50..  Training Loss: 0.582..  Validation Loss: 0.611..  Validation Accuracy: 0.830\n",
            "Epoch: 17/50..  Training Loss: 0.583..  Validation Loss: 0.605..  Validation Accuracy: 0.832\n",
            "Epoch: 18/50..  Training Loss: 0.586..  Validation Loss: 0.608..  Validation Accuracy: 0.835\n",
            "Epoch: 19/50..  Training Loss: 0.583..  Validation Loss: 0.612..  Validation Accuracy: 0.837\n",
            "Epoch: 20/50..  Training Loss: 0.586..  Validation Loss: 0.617..  Validation Accuracy: 0.823\n",
            "Epoch: 21/50..  Training Loss: 0.586..  Validation Loss: 0.606..  Validation Accuracy: 0.842\n",
            "Epoch: 22/50..  Training Loss: 0.584..  Validation Loss: 0.605..  Validation Accuracy: 0.847\n",
            "Epoch: 23/50..  Training Loss: 0.586..  Validation Loss: 0.612..  Validation Accuracy: 0.837\n",
            "Epoch: 24/50..  Training Loss: 0.588..  Validation Loss: 0.608..  Validation Accuracy: 0.837\n",
            "Epoch: 25/50..  Training Loss: 0.586..  Validation Loss: 0.605..  Validation Accuracy: 0.854\n",
            "Epoch: 26/50..  Training Loss: 0.583..  Validation Loss: 0.607..  Validation Accuracy: 0.841\n",
            "Epoch: 27/50..  Training Loss: 0.585..  Validation Loss: 0.609..  Validation Accuracy: 0.838\n",
            "Epoch: 28/50..  Training Loss: 0.584..  Validation Loss: 0.613..  Validation Accuracy: 0.826\n",
            "Epoch: 29/50..  Training Loss: 0.584..  Validation Loss: 0.610..  Validation Accuracy: 0.841\n",
            "Epoch: 30/50..  Training Loss: 0.585..  Validation Loss: 0.615..  Validation Accuracy: 0.830\n",
            "Epoch: 31/50..  Training Loss: 0.586..  Validation Loss: 0.615..  Validation Accuracy: 0.810\n",
            "Epoch: 32/50..  Training Loss: 0.595..  Validation Loss: 0.613..  Validation Accuracy: 0.825\n",
            "Epoch: 33/50..  Training Loss: 0.587..  Validation Loss: 0.608..  Validation Accuracy: 0.831\n",
            "Epoch: 34/50..  Training Loss: 0.588..  Validation Loss: 0.609..  Validation Accuracy: 0.829\n",
            "Epoch: 35/50..  Training Loss: 0.589..  Validation Loss: 0.619..  Validation Accuracy: 0.824\n",
            "Epoch: 36/50..  Training Loss: 0.586..  Validation Loss: 0.610..  Validation Accuracy: 0.830\n",
            "Epoch: 37/50..  Training Loss: 0.594..  Validation Loss: 0.635..  Validation Accuracy: 0.753\n",
            "Epoch: 38/50..  Training Loss: 0.601..  Validation Loss: 0.613..  Validation Accuracy: 0.835\n",
            "Epoch: 39/50..  Training Loss: 0.593..  Validation Loss: 0.608..  Validation Accuracy: 0.823\n",
            "Epoch: 40/50..  Training Loss: 0.592..  Validation Loss: 0.626..  Validation Accuracy: 0.767\n",
            "Epoch: 41/50..  Training Loss: 0.596..  Validation Loss: 0.619..  Validation Accuracy: 0.797\n",
            "Epoch: 42/50..  Training Loss: 0.593..  Validation Loss: 0.613..  Validation Accuracy: 0.831\n",
            "Epoch: 43/50..  Training Loss: 0.591..  Validation Loss: 0.610..  Validation Accuracy: 0.822\n",
            "Epoch: 44/50..  Training Loss: 0.590..  Validation Loss: 0.609..  Validation Accuracy: 0.832\n",
            "Epoch: 45/50..  Training Loss: 0.592..  Validation Loss: 0.620..  Validation Accuracy: 0.815\n",
            "Epoch: 46/50..  Training Loss: 0.598..  Validation Loss: 0.617..  Validation Accuracy: 0.809\n",
            "Epoch: 47/50..  Training Loss: 0.599..  Validation Loss: 0.619..  Validation Accuracy: 0.825\n",
            "Epoch: 48/50..  Training Loss: 0.593..  Validation Loss: 0.611..  Validation Accuracy: 0.838\n",
            "Epoch: 49/50..  Training Loss: 0.597..  Validation Loss: 0.629..  Validation Accuracy: 0.803\n"
          ]
        },
        {
          "output_type": "display_data",
          "data": {
            "text/plain": [
              "<Figure size 640x480 with 1 Axes>"
            ],
            "image/png": "[encoded data removed]"
          },
          "metadata": {}
        }
      ]
    },
    {
      "cell_type": "code",
      "source": [
        "import torch.nn.functional as F\n",
        "\n",
        "class Classifier(nn.Module):\n",
        "    def __init__(self):\n",
        "        super().__init__()\n",
        "        self.fc1 = nn.Linear(train_features.shape[1], 32)\n",
        "        self.fc2 = nn.Linear(32, 1)\n",
        "        self.relu = nn.ReLU()\n",
        "\n",
        "    def forward(self, x):\n",
        "        x = F.relu(self.fc1(x))\n",
        "        x= self.fc2(x)\n",
        "        return x\n",
        "\n",
        "first_model = Classifier().to(device)\n",
        "\n",
        "criterion = nn.BCEWithLogitsLoss()\n",
        "epochs = 50\n",
        "learning_rate=3e-4\n",
        "optimizer = optim.Adam(first_model.parameters(), lr=learning_rate)\n",
        "train_losses, valid_losses = train_validation(first_model, criterion, train_loader, valid_loader, optimizer, epochs)\n",
        "\n",
        "plt.plot(train_losses, label='Training Loss')\n",
        "plt.plot(valid_losses, label='Validation Loss')\n",
        "plt.xlabel('Epochs')\n",
        "plt.ylabel('Loss')\n",
        "plt.legend()\n",
        "plt.show()\n",
        "\n",
        "#Show the lowest validation Loss\n",
        "print(f\"The lowest validation loss is: {min(valid_losses)}\")"
      ],
      "metadata": {
        "id": "YzuQckgxxudV",
        "colab": {
          "base_uri": "https://localhost:8080/",
          "height": 1000
        },
        "outputId": "76ca0858-a983-4a49-df00-ffbf3a988e7b"
      },
      "execution_count": null,
      "outputs": [
        {
          "output_type": "stream",
          "name": "stdout",
          "text": [
            "Epoch: 0/50..  Training Loss: 0.680..  Validation Loss: 0.665..  Validation Accuracy: 0.692\n",
            "Epoch: 1/50..  Training Loss: 0.647..  Validation Loss: 0.635..  Validation Accuracy: 0.725\n",
            "Epoch: 2/50..  Training Loss: 0.610..  Validation Loss: 0.602..  Validation Accuracy: 0.737\n",
            "Epoch: 3/50..  Training Loss: 0.569..  Validation Loss: 0.566..  Validation Accuracy: 0.751\n",
            "Epoch: 4/50..  Training Loss: 0.530..  Validation Loss: 0.535..  Validation Accuracy: 0.760\n",
            "Epoch: 5/50..  Training Loss: 0.497..  Validation Loss: 0.509..  Validation Accuracy: 0.774\n",
            "Epoch: 6/50..  Training Loss: 0.471..  Validation Loss: 0.489..  Validation Accuracy: 0.785\n",
            "Epoch: 7/50..  Training Loss: 0.450..  Validation Loss: 0.474..  Validation Accuracy: 0.802\n",
            "Epoch: 8/50..  Training Loss: 0.435..  Validation Loss: 0.462..  Validation Accuracy: 0.816\n",
            "Epoch: 9/50..  Training Loss: 0.423..  Validation Loss: 0.455..  Validation Accuracy: 0.815\n",
            "Epoch: 10/50..  Training Loss: 0.414..  Validation Loss: 0.449..  Validation Accuracy: 0.814\n",
            "Epoch: 11/50..  Training Loss: 0.408..  Validation Loss: 0.445..  Validation Accuracy: 0.814\n",
            "Epoch: 12/50..  Training Loss: 0.403..  Validation Loss: 0.442..  Validation Accuracy: 0.820\n",
            "Epoch: 13/50..  Training Loss: 0.399..  Validation Loss: 0.439..  Validation Accuracy: 0.819\n",
            "Epoch: 14/50..  Training Loss: 0.396..  Validation Loss: 0.437..  Validation Accuracy: 0.821\n",
            "Epoch: 15/50..  Training Loss: 0.394..  Validation Loss: 0.436..  Validation Accuracy: 0.823\n",
            "Epoch: 16/50..  Training Loss: 0.391..  Validation Loss: 0.434..  Validation Accuracy: 0.824\n",
            "Epoch: 17/50..  Training Loss: 0.390..  Validation Loss: 0.433..  Validation Accuracy: 0.822\n",
            "Epoch: 18/50..  Training Loss: 0.388..  Validation Loss: 0.431..  Validation Accuracy: 0.822\n",
            "Epoch: 19/50..  Training Loss: 0.387..  Validation Loss: 0.431..  Validation Accuracy: 0.824\n",
            "Epoch: 20/50..  Training Loss: 0.385..  Validation Loss: 0.431..  Validation Accuracy: 0.825\n",
            "Epoch: 21/50..  Training Loss: 0.384..  Validation Loss: 0.428..  Validation Accuracy: 0.823\n",
            "Epoch: 22/50..  Training Loss: 0.382..  Validation Loss: 0.426..  Validation Accuracy: 0.823\n",
            "Epoch: 23/50..  Training Loss: 0.381..  Validation Loss: 0.425..  Validation Accuracy: 0.824\n",
            "Epoch: 24/50..  Training Loss: 0.380..  Validation Loss: 0.424..  Validation Accuracy: 0.824\n",
            "Epoch: 25/50..  Training Loss: 0.379..  Validation Loss: 0.422..  Validation Accuracy: 0.823\n",
            "Epoch: 26/50..  Training Loss: 0.377..  Validation Loss: 0.421..  Validation Accuracy: 0.825\n",
            "Epoch: 27/50..  Training Loss: 0.376..  Validation Loss: 0.420..  Validation Accuracy: 0.825\n",
            "Epoch: 28/50..  Training Loss: 0.375..  Validation Loss: 0.418..  Validation Accuracy: 0.824\n",
            "Epoch: 29/50..  Training Loss: 0.373..  Validation Loss: 0.417..  Validation Accuracy: 0.823\n",
            "Epoch: 30/50..  Training Loss: 0.372..  Validation Loss: 0.417..  Validation Accuracy: 0.828\n",
            "Epoch: 31/50..  Training Loss: 0.371..  Validation Loss: 0.414..  Validation Accuracy: 0.828\n",
            "Epoch: 32/50..  Training Loss: 0.370..  Validation Loss: 0.414..  Validation Accuracy: 0.829\n",
            "Epoch: 33/50..  Training Loss: 0.368..  Validation Loss: 0.412..  Validation Accuracy: 0.830\n",
            "Epoch: 34/50..  Training Loss: 0.368..  Validation Loss: 0.411..  Validation Accuracy: 0.832\n",
            "Epoch: 35/50..  Training Loss: 0.366..  Validation Loss: 0.410..  Validation Accuracy: 0.831\n",
            "Epoch: 36/50..  Training Loss: 0.365..  Validation Loss: 0.408..  Validation Accuracy: 0.830\n",
            "Epoch: 37/50..  Training Loss: 0.364..  Validation Loss: 0.407..  Validation Accuracy: 0.831\n",
            "Epoch: 38/50..  Training Loss: 0.363..  Validation Loss: 0.406..  Validation Accuracy: 0.831\n",
            "Epoch: 39/50..  Training Loss: 0.362..  Validation Loss: 0.404..  Validation Accuracy: 0.832\n",
            "Epoch: 40/50..  Training Loss: 0.361..  Validation Loss: 0.404..  Validation Accuracy: 0.833\n",
            "Epoch: 41/50..  Training Loss: 0.360..  Validation Loss: 0.402..  Validation Accuracy: 0.835\n",
            "Epoch: 42/50..  Training Loss: 0.359..  Validation Loss: 0.401..  Validation Accuracy: 0.835\n",
            "Epoch: 43/50..  Training Loss: 0.358..  Validation Loss: 0.401..  Validation Accuracy: 0.835\n",
            "Epoch: 44/50..  Training Loss: 0.357..  Validation Loss: 0.399..  Validation Accuracy: 0.837\n",
            "Epoch: 45/50..  Training Loss: 0.356..  Validation Loss: 0.398..  Validation Accuracy: 0.835\n",
            "Epoch: 46/50..  Training Loss: 0.355..  Validation Loss: 0.398..  Validation Accuracy: 0.835\n",
            "Epoch: 47/50..  Training Loss: 0.354..  Validation Loss: 0.397..  Validation Accuracy: 0.835\n",
            "Epoch: 48/50..  Training Loss: 0.353..  Validation Loss: 0.396..  Validation Accuracy: 0.837\n",
            "Epoch: 49/50..  Training Loss: 0.353..  Validation Loss: 0.395..  Validation Accuracy: 0.838\n"
          ]
        },
        {
          "output_type": "display_data",
          "data": {
            "text/plain": [
              "<Figure size 640x480 with 1 Axes>"
            ],
            "image/png": "[encoded data removed]"
          },
          "metadata": {}
        },
        {
          "output_type": "stream",
          "name": "stdout",
          "text": [
            "The lowest validation loss is: 0.3950840107032231\n"
          ]
        }
      ]
    },
    {
      "cell_type": "code",
      "source": [
        "import torch.nn.functional as F\n",
        "\n",
        "class Classifier(nn.Module):\n",
        "    def __init__(self):\n",
        "        super().__init__()\n",
        "        self.fc1 = nn.Linear(train_features.shape[1], 128)\n",
        "        self.fc2 = nn.Linear(128, 1)\n",
        "        self.relu = nn.ReLU()\n",
        "\n",
        "    def forward(self, x):\n",
        "        x = F.relu(self.fc1(x))\n",
        "        x= self.fc2(x)\n",
        "        return x\n",
        "\n",
        "second_model = Classifier().to(device)\n",
        "\n",
        "criterion = nn.BCEWithLogitsLoss()\n",
        "epochs = 50\n",
        "learning_rate=3e-4\n",
        "optimizer = optim.Adam(second_model.parameters(), lr=learning_rate)\n",
        "train_losses, valid_losses = train_validation(second_model, criterion, train_loader, valid_loader, optimizer, epochs)\n",
        "\n",
        "plt.plot(train_losses, label='Training Loss')\n",
        "plt.plot(valid_losses, label='Validation Loss')\n",
        "plt.xlabel('Epochs')\n",
        "plt.ylabel('Loss')\n",
        "plt.legend()\n",
        "plt.show()\n",
        "#Show the lowest validation Loss\n",
        "print(f\"The lowest validation loss is: {min(valid_losses)}\")"
      ],
      "metadata": {
        "colab": {
          "base_uri": "https://localhost:8080/",
          "height": 1000
        },
        "id": "tGNwXTLa_UQm",
        "outputId": "85524ce2-5863-488f-b476-8945385e8d22"
      },
      "execution_count": null,
      "outputs": [
        {
          "output_type": "stream",
          "name": "stdout",
          "text": [
            "Epoch: 0/50..  Training Loss: 0.656..  Validation Loss: 0.630..  Validation Accuracy: 0.703\n",
            "Epoch: 1/50..  Training Loss: 0.588..  Validation Loss: 0.572..  Validation Accuracy: 0.757\n",
            "Epoch: 2/50..  Training Loss: 0.524..  Validation Loss: 0.522..  Validation Accuracy: 0.778\n",
            "Epoch: 3/50..  Training Loss: 0.475..  Validation Loss: 0.485..  Validation Accuracy: 0.788\n",
            "Epoch: 4/50..  Training Loss: 0.441..  Validation Loss: 0.463..  Validation Accuracy: 0.806\n",
            "Epoch: 5/50..  Training Loss: 0.419..  Validation Loss: 0.451..  Validation Accuracy: 0.819\n",
            "Epoch: 6/50..  Training Loss: 0.406..  Validation Loss: 0.443..  Validation Accuracy: 0.817\n",
            "Epoch: 7/50..  Training Loss: 0.397..  Validation Loss: 0.438..  Validation Accuracy: 0.822\n",
            "Epoch: 8/50..  Training Loss: 0.391..  Validation Loss: 0.432..  Validation Accuracy: 0.821\n",
            "Epoch: 9/50..  Training Loss: 0.388..  Validation Loss: 0.431..  Validation Accuracy: 0.822\n",
            "Epoch: 10/50..  Training Loss: 0.384..  Validation Loss: 0.428..  Validation Accuracy: 0.822\n",
            "Epoch: 11/50..  Training Loss: 0.381..  Validation Loss: 0.426..  Validation Accuracy: 0.824\n",
            "Epoch: 12/50..  Training Loss: 0.378..  Validation Loss: 0.423..  Validation Accuracy: 0.826\n",
            "Epoch: 13/50..  Training Loss: 0.375..  Validation Loss: 0.422..  Validation Accuracy: 0.828\n",
            "Epoch: 14/50..  Training Loss: 0.373..  Validation Loss: 0.419..  Validation Accuracy: 0.832\n",
            "Epoch: 15/50..  Training Loss: 0.371..  Validation Loss: 0.415..  Validation Accuracy: 0.830\n",
            "Epoch: 16/50..  Training Loss: 0.368..  Validation Loss: 0.414..  Validation Accuracy: 0.837\n",
            "Epoch: 17/50..  Training Loss: 0.367..  Validation Loss: 0.414..  Validation Accuracy: 0.838\n",
            "Epoch: 18/50..  Training Loss: 0.364..  Validation Loss: 0.409..  Validation Accuracy: 0.838\n",
            "Epoch: 19/50..  Training Loss: 0.362..  Validation Loss: 0.407..  Validation Accuracy: 0.840\n",
            "Epoch: 20/50..  Training Loss: 0.360..  Validation Loss: 0.404..  Validation Accuracy: 0.838\n",
            "Epoch: 21/50..  Training Loss: 0.358..  Validation Loss: 0.404..  Validation Accuracy: 0.845\n",
            "Epoch: 22/50..  Training Loss: 0.356..  Validation Loss: 0.400..  Validation Accuracy: 0.844\n",
            "Epoch: 23/50..  Training Loss: 0.354..  Validation Loss: 0.399..  Validation Accuracy: 0.845\n",
            "Epoch: 24/50..  Training Loss: 0.353..  Validation Loss: 0.397..  Validation Accuracy: 0.845\n",
            "Epoch: 25/50..  Training Loss: 0.350..  Validation Loss: 0.396..  Validation Accuracy: 0.847\n",
            "Epoch: 26/50..  Training Loss: 0.349..  Validation Loss: 0.393..  Validation Accuracy: 0.845\n",
            "Epoch: 27/50..  Training Loss: 0.347..  Validation Loss: 0.392..  Validation Accuracy: 0.845\n",
            "Epoch: 28/50..  Training Loss: 0.346..  Validation Loss: 0.389..  Validation Accuracy: 0.848\n",
            "Epoch: 29/50..  Training Loss: 0.344..  Validation Loss: 0.388..  Validation Accuracy: 0.845\n",
            "Epoch: 30/50..  Training Loss: 0.342..  Validation Loss: 0.389..  Validation Accuracy: 0.850\n",
            "Epoch: 31/50..  Training Loss: 0.340..  Validation Loss: 0.386..  Validation Accuracy: 0.845\n",
            "Epoch: 32/50..  Training Loss: 0.339..  Validation Loss: 0.385..  Validation Accuracy: 0.847\n",
            "Epoch: 33/50..  Training Loss: 0.337..  Validation Loss: 0.384..  Validation Accuracy: 0.850\n",
            "Epoch: 34/50..  Training Loss: 0.336..  Validation Loss: 0.383..  Validation Accuracy: 0.851\n",
            "Epoch: 35/50..  Training Loss: 0.335..  Validation Loss: 0.382..  Validation Accuracy: 0.849\n",
            "Epoch: 36/50..  Training Loss: 0.334..  Validation Loss: 0.381..  Validation Accuracy: 0.849\n",
            "Epoch: 37/50..  Training Loss: 0.332..  Validation Loss: 0.380..  Validation Accuracy: 0.851\n",
            "Epoch: 38/50..  Training Loss: 0.331..  Validation Loss: 0.379..  Validation Accuracy: 0.849\n",
            "Epoch: 39/50..  Training Loss: 0.330..  Validation Loss: 0.378..  Validation Accuracy: 0.851\n",
            "Epoch: 40/50..  Training Loss: 0.329..  Validation Loss: 0.377..  Validation Accuracy: 0.852\n",
            "Epoch: 41/50..  Training Loss: 0.328..  Validation Loss: 0.376..  Validation Accuracy: 0.850\n",
            "Epoch: 42/50..  Training Loss: 0.327..  Validation Loss: 0.377..  Validation Accuracy: 0.854\n",
            "Epoch: 43/50..  Training Loss: 0.325..  Validation Loss: 0.374..  Validation Accuracy: 0.850\n",
            "Epoch: 44/50..  Training Loss: 0.324..  Validation Loss: 0.375..  Validation Accuracy: 0.854\n",
            "Epoch: 45/50..  Training Loss: 0.323..  Validation Loss: 0.374..  Validation Accuracy: 0.854\n",
            "Epoch: 46/50..  Training Loss: 0.322..  Validation Loss: 0.373..  Validation Accuracy: 0.850\n",
            "Epoch: 47/50..  Training Loss: 0.321..  Validation Loss: 0.376..  Validation Accuracy: 0.852\n",
            "Epoch: 48/50..  Training Loss: 0.320..  Validation Loss: 0.373..  Validation Accuracy: 0.854\n",
            "Epoch: 49/50..  Training Loss: 0.319..  Validation Loss: 0.371..  Validation Accuracy: 0.854\n"
          ]
        },
        {
          "output_type": "display_data",
          "data": {
            "text/plain": [
              "<Figure size 640x480 with 1 Axes>"
            ],
            "image/png": "[encoded data removed]"
          },
          "metadata": {}
        },
        {
          "output_type": "stream",
          "name": "stdout",
          "text": [
            "The lowest validation loss is: 0.3708558465753283\n"
          ]
        }
      ]
    },
    {
      "cell_type": "code",
      "source": [
        "import torch.nn.functional as F\n",
        "\n",
        "class Classifier(nn.Module):\n",
        "    def __init__(self):\n",
        "        super().__init__()\n",
        "        self.fc1 = nn.Linear(train_features.shape[1], 512)\n",
        "        self.fc2 = nn.Linear(512, 1)\n",
        "        self.relu = nn.ReLU()\n",
        "\n",
        "    def forward(self, x):\n",
        "        x = F.relu(self.fc1(x))\n",
        "        x= self.fc2(x)\n",
        "        return x\n",
        "\n",
        "third_model = Classifier().to(device)\n",
        "\n",
        "criterion = nn.BCEWithLogitsLoss()\n",
        "epochs = 50\n",
        "learning_rate=3e-4\n",
        "optimizer = optim.Adam(third_model.parameters(), lr=learning_rate)\n",
        "train_losses, valid_losses = train_validation(third_model, criterion, train_loader, valid_loader, optimizer, epochs)\n",
        "\n",
        "plt.plot(train_losses, label='Training Loss')\n",
        "plt.plot(valid_losses, label='Validation Loss')\n",
        "plt.xlabel('Epochs')\n",
        "plt.ylabel('Loss')\n",
        "plt.legend()\n",
        "plt.show()\n",
        "\n",
        "#Show the lowest validation Loss\n",
        "print(f\"The lowest validation loss is: {min(valid_losses)}\")"
      ],
      "metadata": {
        "colab": {
          "base_uri": "https://localhost:8080/",
          "height": 1000
        },
        "id": "AjdjzUH1THFx",
        "outputId": "f4fcc1f6-ecc7-43b3-bc8e-4666c47ad66a"
      },
      "execution_count": null,
      "outputs": [
        {
          "output_type": "stream",
          "name": "stdout",
          "text": [
            "Epoch: 0/50..  Training Loss: 0.619..  Validation Loss: 0.569..  Validation Accuracy: 0.751\n",
            "Epoch: 1/50..  Training Loss: 0.507..  Validation Loss: 0.497..  Validation Accuracy: 0.792\n",
            "Epoch: 2/50..  Training Loss: 0.444..  Validation Loss: 0.457..  Validation Accuracy: 0.804\n",
            "Epoch: 3/50..  Training Loss: 0.412..  Validation Loss: 0.440..  Validation Accuracy: 0.814\n",
            "Epoch: 4/50..  Training Loss: 0.395..  Validation Loss: 0.433..  Validation Accuracy: 0.821\n",
            "Epoch: 5/50..  Training Loss: 0.386..  Validation Loss: 0.430..  Validation Accuracy: 0.825\n",
            "Epoch: 6/50..  Training Loss: 0.381..  Validation Loss: 0.424..  Validation Accuracy: 0.822\n",
            "Epoch: 7/50..  Training Loss: 0.375..  Validation Loss: 0.422..  Validation Accuracy: 0.833\n",
            "Epoch: 8/50..  Training Loss: 0.370..  Validation Loss: 0.418..  Validation Accuracy: 0.835\n",
            "Epoch: 9/50..  Training Loss: 0.367..  Validation Loss: 0.415..  Validation Accuracy: 0.833\n",
            "Epoch: 10/50..  Training Loss: 0.363..  Validation Loss: 0.410..  Validation Accuracy: 0.839\n",
            "Epoch: 11/50..  Training Loss: 0.359..  Validation Loss: 0.407..  Validation Accuracy: 0.841\n",
            "Epoch: 12/50..  Training Loss: 0.356..  Validation Loss: 0.403..  Validation Accuracy: 0.839\n",
            "Epoch: 13/50..  Training Loss: 0.352..  Validation Loss: 0.400..  Validation Accuracy: 0.837\n",
            "Epoch: 14/50..  Training Loss: 0.349..  Validation Loss: 0.396..  Validation Accuracy: 0.843\n",
            "Epoch: 15/50..  Training Loss: 0.344..  Validation Loss: 0.395..  Validation Accuracy: 0.850\n",
            "Epoch: 16/50..  Training Loss: 0.342..  Validation Loss: 0.389..  Validation Accuracy: 0.844\n",
            "Epoch: 17/50..  Training Loss: 0.340..  Validation Loss: 0.387..  Validation Accuracy: 0.839\n",
            "Epoch: 18/50..  Training Loss: 0.336..  Validation Loss: 0.385..  Validation Accuracy: 0.842\n",
            "Epoch: 19/50..  Training Loss: 0.333..  Validation Loss: 0.382..  Validation Accuracy: 0.843\n",
            "Epoch: 20/50..  Training Loss: 0.330..  Validation Loss: 0.381..  Validation Accuracy: 0.849\n",
            "Epoch: 21/50..  Training Loss: 0.327..  Validation Loss: 0.380..  Validation Accuracy: 0.849\n",
            "Epoch: 22/50..  Training Loss: 0.325..  Validation Loss: 0.376..  Validation Accuracy: 0.842\n",
            "Epoch: 23/50..  Training Loss: 0.323..  Validation Loss: 0.375..  Validation Accuracy: 0.848\n",
            "Epoch: 24/50..  Training Loss: 0.321..  Validation Loss: 0.374..  Validation Accuracy: 0.847\n",
            "Epoch: 25/50..  Training Loss: 0.318..  Validation Loss: 0.372..  Validation Accuracy: 0.849\n",
            "Epoch: 26/50..  Training Loss: 0.316..  Validation Loss: 0.372..  Validation Accuracy: 0.850\n",
            "Epoch: 27/50..  Training Loss: 0.315..  Validation Loss: 0.371..  Validation Accuracy: 0.849\n",
            "Epoch: 28/50..  Training Loss: 0.313..  Validation Loss: 0.373..  Validation Accuracy: 0.849\n",
            "Epoch: 29/50..  Training Loss: 0.311..  Validation Loss: 0.369..  Validation Accuracy: 0.851\n",
            "Epoch: 30/50..  Training Loss: 0.310..  Validation Loss: 0.369..  Validation Accuracy: 0.851\n",
            "Epoch: 31/50..  Training Loss: 0.307..  Validation Loss: 0.371..  Validation Accuracy: 0.847\n",
            "Epoch: 32/50..  Training Loss: 0.306..  Validation Loss: 0.370..  Validation Accuracy: 0.844\n",
            "Epoch: 33/50..  Training Loss: 0.304..  Validation Loss: 0.368..  Validation Accuracy: 0.850\n",
            "Epoch: 34/50..  Training Loss: 0.302..  Validation Loss: 0.369..  Validation Accuracy: 0.853\n",
            "Epoch: 35/50..  Training Loss: 0.301..  Validation Loss: 0.365..  Validation Accuracy: 0.850\n",
            "Epoch: 36/50..  Training Loss: 0.299..  Validation Loss: 0.368..  Validation Accuracy: 0.851\n",
            "Epoch: 37/50..  Training Loss: 0.298..  Validation Loss: 0.365..  Validation Accuracy: 0.852\n",
            "Epoch: 38/50..  Training Loss: 0.296..  Validation Loss: 0.367..  Validation Accuracy: 0.854\n",
            "Epoch: 39/50..  Training Loss: 0.295..  Validation Loss: 0.367..  Validation Accuracy: 0.851\n",
            "Epoch: 40/50..  Training Loss: 0.294..  Validation Loss: 0.367..  Validation Accuracy: 0.854\n",
            "Epoch: 41/50..  Training Loss: 0.292..  Validation Loss: 0.369..  Validation Accuracy: 0.853\n",
            "Epoch: 42/50..  Training Loss: 0.291..  Validation Loss: 0.366..  Validation Accuracy: 0.853\n",
            "Epoch: 43/50..  Training Loss: 0.290..  Validation Loss: 0.367..  Validation Accuracy: 0.852\n",
            "Epoch: 44/50..  Training Loss: 0.288..  Validation Loss: 0.368..  Validation Accuracy: 0.854\n",
            "Epoch: 45/50..  Training Loss: 0.286..  Validation Loss: 0.365..  Validation Accuracy: 0.856\n",
            "Epoch: 46/50..  Training Loss: 0.286..  Validation Loss: 0.367..  Validation Accuracy: 0.849\n",
            "Epoch: 47/50..  Training Loss: 0.285..  Validation Loss: 0.369..  Validation Accuracy: 0.853\n",
            "Epoch: 48/50..  Training Loss: 0.283..  Validation Loss: 0.373..  Validation Accuracy: 0.853\n",
            "Epoch: 49/50..  Training Loss: 0.283..  Validation Loss: 0.368..  Validation Accuracy: 0.850\n"
          ]
        },
        {
          "output_type": "display_data",
          "data": {
            "text/plain": [
              "<Figure size 640x480 with 1 Axes>"
            ],
            "image/png": "[encoded data removed]"
          },
          "metadata": {}
        },
        {
          "output_type": "stream",
          "name": "stdout",
          "text": [
            "The lowest validation loss is: 0.3649449944496155\n"
          ]
        }
      ]
    },
    {
      "cell_type": "code",
      "source": [
        "import torch.nn.functional as F\n",
        "\n",
        "class Classifier(nn.Module):\n",
        "    def __init__(self):\n",
        "        super().__init__()\n",
        "        self.fc1 = nn.Linear(train_features.shape[1], 512)\n",
        "        self.fc2 = nn.Linear(512, 16)\n",
        "        self.fc3 = nn.Linear(16, 16)\n",
        "        self.fc4 = nn.Linear(16, 1)\n",
        "        self.relu = nn.ReLU()\n",
        "\n",
        "    def forward(self, x):\n",
        "        x = F.relu(self.fc1(x))\n",
        "        x= F.relu(self.fc2(x))\n",
        "        x= F.relu(self.fc3(x))\n",
        "        x= self.fc4(x)\n",
        "        return x\n",
        "\n",
        "\n",
        "fourth_model = Classifier().to(device)\n",
        "\n",
        "criterion = nn.BCEWithLogitsLoss()\n",
        "epochs = 50\n",
        "learning_rate=3e-4\n",
        "optimizer = optim.Adam(fourth_model.parameters(), lr=learning_rate)\n",
        "train_losses, valid_losses = train_validation(fourth_model, criterion, train_loader, valid_loader, optimizer, epochs)\n",
        "\n",
        "plt.plot(train_losses, label='Training Loss')\n",
        "plt.plot(valid_losses, label='Validation Loss')\n",
        "plt.xlabel('Epochs')\n",
        "plt.ylabel('Loss')\n",
        "plt.legend()\n",
        "plt.show()\n",
        "\n",
        "#Show the lowest validation Loss\n",
        "print(f\"The lowest validation loss is: {min(valid_losses)}\")"
      ],
      "metadata": {
        "colab": {
          "base_uri": "https://localhost:8080/",
          "height": 1000
        },
        "id": "N-0bMNyvFuPc",
        "outputId": "45045e2e-658a-49a3-befd-59c1ad55e6b9"
      },
      "execution_count": null,
      "outputs": [
        {
          "output_type": "stream",
          "name": "stdout",
          "text": [
            "Epoch: 0/50..  Training Loss: 0.648..  Validation Loss: 0.600..  Validation Accuracy: 0.786\n",
            "Epoch: 1/50..  Training Loss: 0.517..  Validation Loss: 0.485..  Validation Accuracy: 0.813\n",
            "Epoch: 2/50..  Training Loss: 0.418..  Validation Loss: 0.433..  Validation Accuracy: 0.821\n",
            "Epoch: 3/50..  Training Loss: 0.384..  Validation Loss: 0.416..  Validation Accuracy: 0.820\n",
            "Epoch: 4/50..  Training Loss: 0.370..  Validation Loss: 0.405..  Validation Accuracy: 0.842\n",
            "Epoch: 5/50..  Training Loss: 0.361..  Validation Loss: 0.396..  Validation Accuracy: 0.840\n",
            "Epoch: 6/50..  Training Loss: 0.354..  Validation Loss: 0.390..  Validation Accuracy: 0.844\n",
            "Epoch: 7/50..  Training Loss: 0.350..  Validation Loss: 0.387..  Validation Accuracy: 0.838\n",
            "Epoch: 8/50..  Training Loss: 0.344..  Validation Loss: 0.380..  Validation Accuracy: 0.837\n",
            "Epoch: 9/50..  Training Loss: 0.340..  Validation Loss: 0.377..  Validation Accuracy: 0.847\n",
            "Epoch: 10/50..  Training Loss: 0.336..  Validation Loss: 0.377..  Validation Accuracy: 0.842\n",
            "Epoch: 11/50..  Training Loss: 0.331..  Validation Loss: 0.371..  Validation Accuracy: 0.845\n",
            "Epoch: 12/50..  Training Loss: 0.328..  Validation Loss: 0.370..  Validation Accuracy: 0.843\n",
            "Epoch: 13/50..  Training Loss: 0.324..  Validation Loss: 0.367..  Validation Accuracy: 0.848\n",
            "Epoch: 14/50..  Training Loss: 0.320..  Validation Loss: 0.366..  Validation Accuracy: 0.842\n",
            "Epoch: 15/50..  Training Loss: 0.317..  Validation Loss: 0.370..  Validation Accuracy: 0.850\n",
            "Epoch: 16/50..  Training Loss: 0.313..  Validation Loss: 0.365..  Validation Accuracy: 0.850\n",
            "Epoch: 17/50..  Training Loss: 0.310..  Validation Loss: 0.364..  Validation Accuracy: 0.853\n",
            "Epoch: 18/50..  Training Loss: 0.305..  Validation Loss: 0.364..  Validation Accuracy: 0.843\n",
            "Epoch: 19/50..  Training Loss: 0.303..  Validation Loss: 0.365..  Validation Accuracy: 0.853\n",
            "Epoch: 20/50..  Training Loss: 0.299..  Validation Loss: 0.364..  Validation Accuracy: 0.853\n",
            "Epoch: 21/50..  Training Loss: 0.297..  Validation Loss: 0.364..  Validation Accuracy: 0.859\n",
            "Epoch: 22/50..  Training Loss: 0.293..  Validation Loss: 0.371..  Validation Accuracy: 0.850\n",
            "Epoch: 23/50..  Training Loss: 0.290..  Validation Loss: 0.369..  Validation Accuracy: 0.859\n",
            "Epoch: 24/50..  Training Loss: 0.287..  Validation Loss: 0.369..  Validation Accuracy: 0.860\n",
            "Epoch: 25/50..  Training Loss: 0.284..  Validation Loss: 0.371..  Validation Accuracy: 0.858\n",
            "Epoch: 26/50..  Training Loss: 0.282..  Validation Loss: 0.372..  Validation Accuracy: 0.854\n",
            "Epoch: 27/50..  Training Loss: 0.279..  Validation Loss: 0.370..  Validation Accuracy: 0.853\n",
            "Epoch: 28/50..  Training Loss: 0.273..  Validation Loss: 0.372..  Validation Accuracy: 0.853\n",
            "Epoch: 29/50..  Training Loss: 0.271..  Validation Loss: 0.374..  Validation Accuracy: 0.848\n",
            "Epoch: 30/50..  Training Loss: 0.269..  Validation Loss: 0.380..  Validation Accuracy: 0.844\n",
            "Epoch: 31/50..  Training Loss: 0.263..  Validation Loss: 0.385..  Validation Accuracy: 0.857\n",
            "Epoch: 32/50..  Training Loss: 0.263..  Validation Loss: 0.385..  Validation Accuracy: 0.857\n",
            "Epoch: 33/50..  Training Loss: 0.260..  Validation Loss: 0.382..  Validation Accuracy: 0.840\n",
            "Epoch: 34/50..  Training Loss: 0.255..  Validation Loss: 0.383..  Validation Accuracy: 0.858\n",
            "Epoch: 35/50..  Training Loss: 0.252..  Validation Loss: 0.387..  Validation Accuracy: 0.847\n",
            "Epoch: 36/50..  Training Loss: 0.250..  Validation Loss: 0.390..  Validation Accuracy: 0.848\n",
            "Epoch: 37/50..  Training Loss: 0.246..  Validation Loss: 0.401..  Validation Accuracy: 0.857\n",
            "Epoch: 38/50..  Training Loss: 0.245..  Validation Loss: 0.399..  Validation Accuracy: 0.856\n",
            "Epoch: 39/50..  Training Loss: 0.247..  Validation Loss: 0.399..  Validation Accuracy: 0.859\n",
            "Epoch: 40/50..  Training Loss: 0.240..  Validation Loss: 0.400..  Validation Accuracy: 0.854\n",
            "Epoch: 41/50..  Training Loss: 0.236..  Validation Loss: 0.404..  Validation Accuracy: 0.845\n",
            "Epoch: 42/50..  Training Loss: 0.232..  Validation Loss: 0.410..  Validation Accuracy: 0.843\n",
            "Epoch: 43/50..  Training Loss: 0.232..  Validation Loss: 0.405..  Validation Accuracy: 0.839\n",
            "Epoch: 44/50..  Training Loss: 0.227..  Validation Loss: 0.408..  Validation Accuracy: 0.841\n",
            "Epoch: 45/50..  Training Loss: 0.225..  Validation Loss: 0.413..  Validation Accuracy: 0.844\n",
            "Epoch: 46/50..  Training Loss: 0.222..  Validation Loss: 0.418..  Validation Accuracy: 0.842\n",
            "Epoch: 47/50..  Training Loss: 0.218..  Validation Loss: 0.419..  Validation Accuracy: 0.842\n",
            "Epoch: 48/50..  Training Loss: 0.218..  Validation Loss: 0.423..  Validation Accuracy: 0.845\n",
            "Epoch: 49/50..  Training Loss: 0.213..  Validation Loss: 0.429..  Validation Accuracy: 0.837\n"
          ]
        },
        {
          "output_type": "display_data",
          "data": {
            "text/plain": [
              "<Figure size 640x480 with 1 Axes>"
            ],
            "image/png": "[encoded data removed]"
          },
          "metadata": {}
        },
        {
          "output_type": "stream",
          "name": "stdout",
          "text": [
            "The lowest validation loss is: 0.36363703863961355\n"
          ]
        }
      ]
    },
    {
      "cell_type": "code",
      "source": [
        "#Updated model with weight decay\n",
        "import torch.nn.functional as F\n",
        "\n",
        "class Classifier(nn.Module):\n",
        "    def __init__(self):\n",
        "        super().__init__()\n",
        "        self.fc1 = nn.Linear(train_features.shape[1], 512)\n",
        "        self.fc2 = nn.Linear(512, 16)\n",
        "        self.fc3 = nn.Linear(16, 16)\n",
        "        self.fc4 = nn.Linear(16, 1)\n",
        "        self.relu = nn.ReLU()\n",
        "\n",
        "    def forward(self, x):\n",
        "        x = F.relu(self.fc1(x))\n",
        "        x= F.relu(self.fc2(x))\n",
        "        x= F.relu(self.fc3(x))\n",
        "        x= self.fc4(x)\n",
        "        return x\n",
        "\n",
        "\n",
        "fifth_model = Classifier().to(device)\n",
        "\n",
        "criterion = nn.BCEWithLogitsLoss()\n",
        "epochs = 50\n",
        "learning_rate=3e-4\n",
        "optimizer = optim.Adam(fifth_model.parameters(), lr=learning_rate, weight_decay=3e-5)\n",
        "train_losses, valid_losses = train_validation(fifth_model, criterion, train_loader, valid_loader, optimizer, epochs)\n",
        "\n",
        "plt.plot(train_losses, label='Training Loss')\n",
        "plt.plot(valid_losses, label='Validation Loss')\n",
        "plt.xlabel('Epochs')\n",
        "plt.ylabel('Loss')\n",
        "plt.legend()\n",
        "plt.show()\n",
        "\n",
        "#Show the lowest validation Loss\n",
        "print(f\"The lowest validation loss is: {min(valid_losses)}\")"
      ],
      "metadata": {
        "colab": {
          "base_uri": "https://localhost:8080/",
          "height": 1000
        },
        "id": "1-XmqOhwU5MW",
        "outputId": "8286018e-13fd-423e-ce3e-c1b11cc4646e"
      },
      "execution_count": null,
      "outputs": [
        {
          "output_type": "stream",
          "name": "stdout",
          "text": [
            "Epoch: 0/50..  Training Loss: 0.662..  Validation Loss: 0.610..  Validation Accuracy: 0.728\n",
            "Epoch: 1/50..  Training Loss: 0.512..  Validation Loss: 0.453..  Validation Accuracy: 0.805\n",
            "Epoch: 2/50..  Training Loss: 0.399..  Validation Loss: 0.414..  Validation Accuracy: 0.829\n",
            "Epoch: 3/50..  Training Loss: 0.374..  Validation Loss: 0.402..  Validation Accuracy: 0.839\n",
            "Epoch: 4/50..  Training Loss: 0.364..  Validation Loss: 0.395..  Validation Accuracy: 0.840\n",
            "Epoch: 5/50..  Training Loss: 0.358..  Validation Loss: 0.390..  Validation Accuracy: 0.841\n",
            "Epoch: 6/50..  Training Loss: 0.352..  Validation Loss: 0.387..  Validation Accuracy: 0.842\n",
            "Epoch: 7/50..  Training Loss: 0.347..  Validation Loss: 0.382..  Validation Accuracy: 0.842\n",
            "Epoch: 8/50..  Training Loss: 0.343..  Validation Loss: 0.380..  Validation Accuracy: 0.845\n",
            "Epoch: 9/50..  Training Loss: 0.340..  Validation Loss: 0.377..  Validation Accuracy: 0.842\n",
            "Epoch: 10/50..  Training Loss: 0.335..  Validation Loss: 0.377..  Validation Accuracy: 0.848\n",
            "Epoch: 11/50..  Training Loss: 0.332..  Validation Loss: 0.373..  Validation Accuracy: 0.847\n",
            "Epoch: 12/50..  Training Loss: 0.329..  Validation Loss: 0.373..  Validation Accuracy: 0.847\n",
            "Epoch: 13/50..  Training Loss: 0.324..  Validation Loss: 0.374..  Validation Accuracy: 0.853\n",
            "Epoch: 14/50..  Training Loss: 0.322..  Validation Loss: 0.370..  Validation Accuracy: 0.848\n",
            "Epoch: 15/50..  Training Loss: 0.316..  Validation Loss: 0.368..  Validation Accuracy: 0.854\n",
            "Epoch: 16/50..  Training Loss: 0.315..  Validation Loss: 0.376..  Validation Accuracy: 0.851\n",
            "Epoch: 17/50..  Training Loss: 0.312..  Validation Loss: 0.364..  Validation Accuracy: 0.848\n",
            "Epoch: 18/50..  Training Loss: 0.307..  Validation Loss: 0.363..  Validation Accuracy: 0.851\n",
            "Epoch: 19/50..  Training Loss: 0.304..  Validation Loss: 0.362..  Validation Accuracy: 0.852\n",
            "Epoch: 20/50..  Training Loss: 0.301..  Validation Loss: 0.365..  Validation Accuracy: 0.853\n",
            "Epoch: 21/50..  Training Loss: 0.299..  Validation Loss: 0.363..  Validation Accuracy: 0.852\n",
            "Epoch: 22/50..  Training Loss: 0.294..  Validation Loss: 0.362..  Validation Accuracy: 0.856\n",
            "Epoch: 23/50..  Training Loss: 0.293..  Validation Loss: 0.363..  Validation Accuracy: 0.851\n",
            "Epoch: 24/50..  Training Loss: 0.289..  Validation Loss: 0.362..  Validation Accuracy: 0.853\n",
            "Epoch: 25/50..  Training Loss: 0.287..  Validation Loss: 0.366..  Validation Accuracy: 0.857\n",
            "Epoch: 26/50..  Training Loss: 0.283..  Validation Loss: 0.369..  Validation Accuracy: 0.852\n",
            "Epoch: 27/50..  Training Loss: 0.280..  Validation Loss: 0.364..  Validation Accuracy: 0.853\n",
            "Epoch: 28/50..  Training Loss: 0.278..  Validation Loss: 0.370..  Validation Accuracy: 0.848\n",
            "Epoch: 29/50..  Training Loss: 0.275..  Validation Loss: 0.371..  Validation Accuracy: 0.852\n",
            "Epoch: 30/50..  Training Loss: 0.273..  Validation Loss: 0.369..  Validation Accuracy: 0.854\n",
            "Epoch: 31/50..  Training Loss: 0.270..  Validation Loss: 0.372..  Validation Accuracy: 0.850\n",
            "Epoch: 32/50..  Training Loss: 0.265..  Validation Loss: 0.370..  Validation Accuracy: 0.858\n",
            "Epoch: 33/50..  Training Loss: 0.263..  Validation Loss: 0.377..  Validation Accuracy: 0.851\n",
            "Epoch: 34/50..  Training Loss: 0.261..  Validation Loss: 0.371..  Validation Accuracy: 0.858\n",
            "Epoch: 35/50..  Training Loss: 0.257..  Validation Loss: 0.381..  Validation Accuracy: 0.853\n",
            "Epoch: 36/50..  Training Loss: 0.256..  Validation Loss: 0.387..  Validation Accuracy: 0.859\n",
            "Epoch: 37/50..  Training Loss: 0.253..  Validation Loss: 0.382..  Validation Accuracy: 0.854\n",
            "Epoch: 38/50..  Training Loss: 0.251..  Validation Loss: 0.383..  Validation Accuracy: 0.853\n",
            "Epoch: 39/50..  Training Loss: 0.248..  Validation Loss: 0.381..  Validation Accuracy: 0.851\n",
            "Epoch: 40/50..  Training Loss: 0.246..  Validation Loss: 0.384..  Validation Accuracy: 0.843\n",
            "Epoch: 41/50..  Training Loss: 0.245..  Validation Loss: 0.387..  Validation Accuracy: 0.851\n",
            "Epoch: 42/50..  Training Loss: 0.240..  Validation Loss: 0.389..  Validation Accuracy: 0.850\n",
            "Epoch: 43/50..  Training Loss: 0.237..  Validation Loss: 0.389..  Validation Accuracy: 0.854\n",
            "Epoch: 44/50..  Training Loss: 0.235..  Validation Loss: 0.390..  Validation Accuracy: 0.859\n",
            "Epoch: 45/50..  Training Loss: 0.231..  Validation Loss: 0.397..  Validation Accuracy: 0.850\n",
            "Epoch: 46/50..  Training Loss: 0.229..  Validation Loss: 0.401..  Validation Accuracy: 0.844\n",
            "Epoch: 47/50..  Training Loss: 0.227..  Validation Loss: 0.397..  Validation Accuracy: 0.843\n",
            "Epoch: 48/50..  Training Loss: 0.224..  Validation Loss: 0.416..  Validation Accuracy: 0.843\n",
            "Epoch: 49/50..  Training Loss: 0.220..  Validation Loss: 0.402..  Validation Accuracy: 0.847\n"
          ]
        },
        {
          "output_type": "display_data",
          "data": {
            "text/plain": [
              "<Figure size 640x480 with 1 Axes>"
            ],
            "image/png": "[encoded data removed]"
          },
          "metadata": {}
        },
        {
          "output_type": "stream",
          "name": "stdout",
          "text": [
            "The lowest validation loss is: 0.36194739597184317\n"
          ]
        }
      ]
    },
    {
      "cell_type": "code",
      "source": [
        "#Updated model with dropout and weight decay\n",
        "import torch.nn.functional as F\n",
        "\n",
        "class Classifier(nn.Module):\n",
        "    def __init__(self):\n",
        "        super().__init__()\n",
        "        self.fc1 = nn.Linear(train_features.shape[1], 512)\n",
        "        self.fc2 = nn.Linear(512, 16)\n",
        "        self.fc3 = nn.Linear(16, 16)\n",
        "        self.fc4 = nn.Linear(16, 1)\n",
        "        self.relu = nn.ReLU()\n",
        "        self.dropout = nn.Dropout(0.3049)\n",
        "\n",
        "    def forward(self, x):\n",
        "        x = self.dropout(F.relu(self.fc1(x)))\n",
        "        x= self.dropout(F.relu(self.fc2(x)))\n",
        "        x= self.dropout(F.relu(self.fc3(x)))\n",
        "        x= self.fc4(x)\n",
        "        return x\n",
        "\n",
        "complexed_updated_model = Classifier().to(device)\n",
        "\n",
        "criterion = nn.BCEWithLogitsLoss()\n",
        "epochs = 100\n",
        "learning_rate=3e-4\n",
        "optimizer = optim.Adam(complexed_updated_model.parameters(), lr=learning_rate, weight_decay=3e-3)\n",
        "train_losses, valid_losses = train_validation(complexed_updated_model, criterion, train_loader, valid_loader, optimizer, epochs)\n",
        "\n",
        "plt.plot(train_losses, label='Training Loss')\n",
        "plt.plot(valid_losses, label='Validation Loss')\n",
        "plt.xlabel('Epochs')\n",
        "plt.ylabel('Loss')\n",
        "plt.legend()\n",
        "plt.show()\n",
        "\n",
        "#Show the lowest validation Loss\n",
        "print(f\"The lowest validation loss is: {min(valid_losses)}\")"
      ],
      "metadata": {
        "colab": {
          "base_uri": "https://localhost:8080/",
          "height": 1000
        },
        "id": "Kno-CBHjHjp8",
        "outputId": "e4916958-2db6-49e4-8e0d-efeb45d5e747"
      },
      "execution_count": null,
      "outputs": [
        {
          "output_type": "stream",
          "name": "stdout",
          "text": [
            "Epoch: 0/100..  Training Loss: 0.686..  Validation Loss: 0.657..  Validation Accuracy: 0.760\n",
            "Epoch: 1/100..  Training Loss: 0.613..  Validation Loss: 0.551..  Validation Accuracy: 0.755\n",
            "Epoch: 2/100..  Training Loss: 0.529..  Validation Loss: 0.472..  Validation Accuracy: 0.807\n",
            "Epoch: 3/100..  Training Loss: 0.455..  Validation Loss: 0.420..  Validation Accuracy: 0.819\n",
            "Epoch: 4/100..  Training Loss: 0.424..  Validation Loss: 0.409..  Validation Accuracy: 0.819\n",
            "Epoch: 5/100..  Training Loss: 0.414..  Validation Loss: 0.406..  Validation Accuracy: 0.824\n",
            "Epoch: 6/100..  Training Loss: 0.406..  Validation Loss: 0.400..  Validation Accuracy: 0.834\n",
            "Epoch: 7/100..  Training Loss: 0.399..  Validation Loss: 0.399..  Validation Accuracy: 0.830\n",
            "Epoch: 8/100..  Training Loss: 0.396..  Validation Loss: 0.399..  Validation Accuracy: 0.830\n",
            "Epoch: 9/100..  Training Loss: 0.392..  Validation Loss: 0.396..  Validation Accuracy: 0.834\n",
            "Epoch: 10/100..  Training Loss: 0.391..  Validation Loss: 0.392..  Validation Accuracy: 0.833\n",
            "Epoch: 11/100..  Training Loss: 0.383..  Validation Loss: 0.390..  Validation Accuracy: 0.838\n",
            "Epoch: 12/100..  Training Loss: 0.380..  Validation Loss: 0.389..  Validation Accuracy: 0.835\n",
            "Epoch: 13/100..  Training Loss: 0.379..  Validation Loss: 0.388..  Validation Accuracy: 0.833\n",
            "Epoch: 14/100..  Training Loss: 0.377..  Validation Loss: 0.387..  Validation Accuracy: 0.837\n",
            "Epoch: 15/100..  Training Loss: 0.376..  Validation Loss: 0.383..  Validation Accuracy: 0.842\n",
            "Epoch: 16/100..  Training Loss: 0.376..  Validation Loss: 0.383..  Validation Accuracy: 0.840\n",
            "Epoch: 17/100..  Training Loss: 0.370..  Validation Loss: 0.379..  Validation Accuracy: 0.845\n",
            "Epoch: 18/100..  Training Loss: 0.362..  Validation Loss: 0.378..  Validation Accuracy: 0.840\n",
            "Epoch: 19/100..  Training Loss: 0.368..  Validation Loss: 0.376..  Validation Accuracy: 0.848\n",
            "Epoch: 20/100..  Training Loss: 0.363..  Validation Loss: 0.376..  Validation Accuracy: 0.847\n",
            "Epoch: 21/100..  Training Loss: 0.362..  Validation Loss: 0.376..  Validation Accuracy: 0.841\n",
            "Epoch: 22/100..  Training Loss: 0.359..  Validation Loss: 0.374..  Validation Accuracy: 0.843\n",
            "Epoch: 23/100..  Training Loss: 0.356..  Validation Loss: 0.371..  Validation Accuracy: 0.844\n",
            "Epoch: 24/100..  Training Loss: 0.359..  Validation Loss: 0.372..  Validation Accuracy: 0.841\n",
            "Epoch: 25/100..  Training Loss: 0.358..  Validation Loss: 0.371..  Validation Accuracy: 0.842\n",
            "Epoch: 26/100..  Training Loss: 0.351..  Validation Loss: 0.368..  Validation Accuracy: 0.847\n",
            "Epoch: 27/100..  Training Loss: 0.352..  Validation Loss: 0.369..  Validation Accuracy: 0.843\n",
            "Epoch: 28/100..  Training Loss: 0.351..  Validation Loss: 0.369..  Validation Accuracy: 0.847\n",
            "Epoch: 29/100..  Training Loss: 0.346..  Validation Loss: 0.363..  Validation Accuracy: 0.852\n",
            "Epoch: 30/100..  Training Loss: 0.347..  Validation Loss: 0.363..  Validation Accuracy: 0.852\n",
            "Epoch: 31/100..  Training Loss: 0.341..  Validation Loss: 0.363..  Validation Accuracy: 0.844\n",
            "Epoch: 32/100..  Training Loss: 0.347..  Validation Loss: 0.361..  Validation Accuracy: 0.849\n",
            "Epoch: 33/100..  Training Loss: 0.348..  Validation Loss: 0.366..  Validation Accuracy: 0.849\n",
            "Epoch: 34/100..  Training Loss: 0.339..  Validation Loss: 0.366..  Validation Accuracy: 0.848\n",
            "Epoch: 35/100..  Training Loss: 0.339..  Validation Loss: 0.366..  Validation Accuracy: 0.845\n",
            "Epoch: 36/100..  Training Loss: 0.339..  Validation Loss: 0.364..  Validation Accuracy: 0.852\n",
            "Epoch: 37/100..  Training Loss: 0.339..  Validation Loss: 0.363..  Validation Accuracy: 0.851\n",
            "Epoch: 38/100..  Training Loss: 0.334..  Validation Loss: 0.361..  Validation Accuracy: 0.856\n",
            "Epoch: 39/100..  Training Loss: 0.334..  Validation Loss: 0.361..  Validation Accuracy: 0.851\n",
            "Epoch: 40/100..  Training Loss: 0.333..  Validation Loss: 0.363..  Validation Accuracy: 0.852\n",
            "Epoch: 41/100..  Training Loss: 0.330..  Validation Loss: 0.358..  Validation Accuracy: 0.854\n",
            "Epoch: 42/100..  Training Loss: 0.337..  Validation Loss: 0.360..  Validation Accuracy: 0.854\n",
            "Epoch: 43/100..  Training Loss: 0.330..  Validation Loss: 0.356..  Validation Accuracy: 0.858\n",
            "Epoch: 44/100..  Training Loss: 0.331..  Validation Loss: 0.358..  Validation Accuracy: 0.856\n",
            "Epoch: 45/100..  Training Loss: 0.328..  Validation Loss: 0.358..  Validation Accuracy: 0.853\n",
            "Epoch: 46/100..  Training Loss: 0.328..  Validation Loss: 0.358..  Validation Accuracy: 0.854\n",
            "Epoch: 47/100..  Training Loss: 0.329..  Validation Loss: 0.362..  Validation Accuracy: 0.850\n",
            "Epoch: 48/100..  Training Loss: 0.328..  Validation Loss: 0.362..  Validation Accuracy: 0.848\n",
            "Epoch: 49/100..  Training Loss: 0.329..  Validation Loss: 0.358..  Validation Accuracy: 0.853\n",
            "Epoch: 50/100..  Training Loss: 0.327..  Validation Loss: 0.358..  Validation Accuracy: 0.853\n",
            "Epoch: 51/100..  Training Loss: 0.326..  Validation Loss: 0.357..  Validation Accuracy: 0.858\n",
            "Epoch: 52/100..  Training Loss: 0.323..  Validation Loss: 0.356..  Validation Accuracy: 0.856\n",
            "Epoch: 53/100..  Training Loss: 0.325..  Validation Loss: 0.358..  Validation Accuracy: 0.856\n",
            "Epoch: 54/100..  Training Loss: 0.321..  Validation Loss: 0.365..  Validation Accuracy: 0.851\n",
            "Epoch: 55/100..  Training Loss: 0.320..  Validation Loss: 0.360..  Validation Accuracy: 0.857\n",
            "Epoch: 56/100..  Training Loss: 0.317..  Validation Loss: 0.360..  Validation Accuracy: 0.853\n",
            "Epoch: 57/100..  Training Loss: 0.316..  Validation Loss: 0.359..  Validation Accuracy: 0.854\n",
            "Epoch: 58/100..  Training Loss: 0.315..  Validation Loss: 0.359..  Validation Accuracy: 0.856\n",
            "Epoch: 59/100..  Training Loss: 0.316..  Validation Loss: 0.362..  Validation Accuracy: 0.852\n",
            "Epoch: 60/100..  Training Loss: 0.318..  Validation Loss: 0.361..  Validation Accuracy: 0.852\n",
            "Epoch: 61/100..  Training Loss: 0.314..  Validation Loss: 0.358..  Validation Accuracy: 0.854\n",
            "Epoch: 62/100..  Training Loss: 0.310..  Validation Loss: 0.356..  Validation Accuracy: 0.853\n",
            "Epoch: 63/100..  Training Loss: 0.315..  Validation Loss: 0.362..  Validation Accuracy: 0.853\n",
            "Epoch: 64/100..  Training Loss: 0.313..  Validation Loss: 0.360..  Validation Accuracy: 0.852\n",
            "Epoch: 65/100..  Training Loss: 0.309..  Validation Loss: 0.362..  Validation Accuracy: 0.854\n",
            "Epoch: 66/100..  Training Loss: 0.308..  Validation Loss: 0.358..  Validation Accuracy: 0.850\n",
            "Epoch: 67/100..  Training Loss: 0.310..  Validation Loss: 0.361..  Validation Accuracy: 0.851\n",
            "Epoch: 68/100..  Training Loss: 0.312..  Validation Loss: 0.360..  Validation Accuracy: 0.854\n",
            "Epoch: 69/100..  Training Loss: 0.309..  Validation Loss: 0.362..  Validation Accuracy: 0.851\n",
            "Epoch: 70/100..  Training Loss: 0.308..  Validation Loss: 0.370..  Validation Accuracy: 0.843\n",
            "Epoch: 71/100..  Training Loss: 0.310..  Validation Loss: 0.358..  Validation Accuracy: 0.852\n",
            "Epoch: 72/100..  Training Loss: 0.307..  Validation Loss: 0.360..  Validation Accuracy: 0.851\n",
            "Epoch: 73/100..  Training Loss: 0.311..  Validation Loss: 0.366..  Validation Accuracy: 0.849\n",
            "Epoch: 74/100..  Training Loss: 0.302..  Validation Loss: 0.366..  Validation Accuracy: 0.853\n",
            "Epoch: 75/100..  Training Loss: 0.304..  Validation Loss: 0.361..  Validation Accuracy: 0.853\n",
            "Epoch: 76/100..  Training Loss: 0.306..  Validation Loss: 0.362..  Validation Accuracy: 0.851\n",
            "Epoch: 77/100..  Training Loss: 0.303..  Validation Loss: 0.364..  Validation Accuracy: 0.857\n",
            "Epoch: 78/100..  Training Loss: 0.302..  Validation Loss: 0.364..  Validation Accuracy: 0.854\n",
            "Epoch: 79/100..  Training Loss: 0.301..  Validation Loss: 0.365..  Validation Accuracy: 0.853\n",
            "Epoch: 80/100..  Training Loss: 0.303..  Validation Loss: 0.364..  Validation Accuracy: 0.851\n",
            "Epoch: 81/100..  Training Loss: 0.300..  Validation Loss: 0.367..  Validation Accuracy: 0.847\n",
            "Epoch: 82/100..  Training Loss: 0.299..  Validation Loss: 0.361..  Validation Accuracy: 0.856\n",
            "Epoch: 83/100..  Training Loss: 0.304..  Validation Loss: 0.365..  Validation Accuracy: 0.849\n",
            "Epoch: 84/100..  Training Loss: 0.296..  Validation Loss: 0.361..  Validation Accuracy: 0.853\n",
            "Epoch: 85/100..  Training Loss: 0.300..  Validation Loss: 0.367..  Validation Accuracy: 0.851\n",
            "Epoch: 86/100..  Training Loss: 0.300..  Validation Loss: 0.357..  Validation Accuracy: 0.853\n",
            "Epoch: 87/100..  Training Loss: 0.299..  Validation Loss: 0.367..  Validation Accuracy: 0.848\n",
            "Epoch: 88/100..  Training Loss: 0.297..  Validation Loss: 0.363..  Validation Accuracy: 0.854\n",
            "Epoch: 89/100..  Training Loss: 0.297..  Validation Loss: 0.363..  Validation Accuracy: 0.852\n",
            "Epoch: 90/100..  Training Loss: 0.297..  Validation Loss: 0.364..  Validation Accuracy: 0.851\n",
            "Epoch: 91/100..  Training Loss: 0.295..  Validation Loss: 0.364..  Validation Accuracy: 0.853\n",
            "Epoch: 92/100..  Training Loss: 0.294..  Validation Loss: 0.370..  Validation Accuracy: 0.856\n",
            "Epoch: 93/100..  Training Loss: 0.293..  Validation Loss: 0.360..  Validation Accuracy: 0.859\n",
            "Epoch: 94/100..  Training Loss: 0.293..  Validation Loss: 0.366..  Validation Accuracy: 0.856\n",
            "Epoch: 95/100..  Training Loss: 0.293..  Validation Loss: 0.367..  Validation Accuracy: 0.849\n",
            "Epoch: 96/100..  Training Loss: 0.292..  Validation Loss: 0.361..  Validation Accuracy: 0.857\n",
            "Epoch: 97/100..  Training Loss: 0.292..  Validation Loss: 0.368..  Validation Accuracy: 0.857\n",
            "Epoch: 98/100..  Training Loss: 0.286..  Validation Loss: 0.356..  Validation Accuracy: 0.850\n",
            "Epoch: 99/100..  Training Loss: 0.291..  Validation Loss: 0.359..  Validation Accuracy: 0.852\n"
          ]
        },
        {
          "output_type": "display_data",
          "data": {
            "text/plain": [
              "<Figure size 640x480 with 1 Axes>"
            ],
            "image/png": "[encoded data removed]"
          },
          "metadata": {}
        },
        {
          "output_type": "stream",
          "name": "stdout",
          "text": [
            "The lowest validation loss is: 0.35573747754096985\n"
          ]
        }
      ]
    },
    {
      "cell_type": "code",
      "source": [
        "#Import best model\n",
        "complexed_updated_model.load_state_dict(torch.load('best_model.pth', weights_only=True))"
      ],
      "metadata": {
        "colab": {
          "base_uri": "https://localhost:8080/"
        },
        "id": "3Y0ytnwzJkvU",
        "outputId": "f43c471c-05c6-40d4-ec39-7adb0736e0e1"
      },
      "execution_count": null,
      "outputs": [
        {
          "output_type": "execute_result",
          "data": {
            "text/plain": [
              "<All keys matched successfully>"
            ]
          },
          "metadata": {},
          "execution_count": 144
        }
      ]
    },
    {
      "cell_type": "code",
      "source": [
        "#Function to define a test of a model\n",
        "def test(model, test_loader):\n",
        "    model.eval()\n",
        "    pred_labels = torch.tensor([], device=device)\n",
        "    with torch.no_grad():\n",
        "        for features in test_loader:\n",
        "            features = features[0].to(device)\n",
        "            output = (torch.sigmoid(model.forward(features)))\n",
        "            pred_labels = torch.cat((pred_labels, output), dim=0)\n",
        "    return pred_labels"
      ],
      "metadata": {
        "id": "K1FdptHuBWAy"
      },
      "execution_count": null,
      "outputs": []
    },
    {
      "cell_type": "code",
      "source": [
        "#Create an ROC curve\n",
        "from sklearn.metrics import roc_curve\n",
        "from sklearn.metrics import auc\n",
        "\n",
        "pred_labels = test(complexed_updated_model, test_loader)\n",
        "fpr, tpr, thresholds = roc_curve(test_labels.cpu(), pred_labels.cpu())\n",
        "roc_auc = auc(fpr, tpr)\n",
        "print(f\"AUC: {roc_auc}\")"
      ],
      "metadata": {
        "colab": {
          "base_uri": "https://localhost:8080/"
        },
        "id": "c0n31YteG2gr",
        "outputId": "63a2b8d2-59b3-4b45-c15f-2255ec89130d"
      },
      "execution_count": null,
      "outputs": [
        {
          "output_type": "stream",
          "name": "stdout",
          "text": [
            "AUC: 0.9149834180249203\n"
          ]
        }
      ]
    },
    {
      "cell_type": "code",
      "source": [
        "pred_labels_base= test(base_model, test_loader)\n",
        "fpr_base, tpr_base, thresholds = roc_curve(test_labels.cpu(), pred_labels_base.cpu())\n",
        "roc_auc_base = auc(fpr_base, tpr_base)\n",
        "print(f\"AUC: {roc_auc_base}\")"
      ],
      "metadata": {
        "colab": {
          "base_uri": "https://localhost:8080/"
        },
        "id": "UVVqEjpIKjF0",
        "outputId": "9ab41887-f679-4350-ffa7-1a6883776212"
      },
      "execution_count": null,
      "outputs": [
        {
          "output_type": "stream",
          "name": "stdout",
          "text": [
            "AUC: 0.7934402735423053\n"
          ]
        }
      ]
    },
    {
      "cell_type": "code",
      "source": [
        "plt.figure()\n",
        "plt.plot(fpr, tpr, color='darkorange', lw=2, label='ROC curve (area = %0.2f)' % roc_auc)\n",
        "plt.plot(fpr_base, tpr_base, color='red', lw=2, label='ROC curve (area = %0.2f)' % roc_auc_base)\n",
        "plt.plot([0, 1], [0, 1], color='navy', lw=2, linestyle='--')\n",
        "plt.xlim([0.0, 1.0])\n",
        "plt.ylim([0.0, 1.05])"
      ],
      "metadata": {
        "colab": {
          "base_uri": "https://localhost:8080/",
          "height": 447
        },
        "id": "h6Ezr0z00eqT",
        "outputId": "b452925d-297d-4585-d3f3-c1dc48f175cb"
      },
      "execution_count": null,
      "outputs": [
        {
          "output_type": "execute_result",
          "data": {
            "text/plain": [
              "(0.0, 1.05)"
            ]
          },
          "metadata": {},
          "execution_count": 148
        },
        {
          "output_type": "display_data",
          "data": {
            "text/plain": [
              "<Figure size 640x480 with 1 Axes>"
            ],
            "image/png": "[encoded data removed]"
          },
          "metadata": {}
        }
      ]
    },
    {
      "cell_type": "code",
      "source": [
        "#Putting our predicitons vs test_labels\n",
        "test_predictions = np.where(pred_labels.cpu().numpy()>0.5, 1,0)\n",
        "\n",
        "#Putting it together on a dataframe\n",
        "Comparison_df = pd.DataFrame({'Test Labels': test_labels.flatten(), 'Test Predictions': test_predictions.flatten()})"
      ],
      "metadata": {
        "id": "6He8xTxVDsIu"
      },
      "execution_count": null,
      "outputs": []
    },
    {
      "cell_type": "code",
      "source": [
        " #Confusion matrix based on Comparison_df\n",
        "from sklearn.metrics import confusion_matrix\n",
        "import seaborn as sns\n",
        "import matplotlib.pyplot as plt\n",
        "\n",
        "cm = confusion_matrix(Comparison_df['Test Labels'], Comparison_df['Test Predictions'])\n",
        "sns.heatmap(cm, annot=True, fmt='d', cmap='Blues')\n",
        "plt.xlabel('Predicted Labels')\n",
        "plt.ylabel('True Labels')\n",
        "plt.title('Confusion Matrix')"
      ],
      "metadata": {
        "id": "3khGb0PRB4oa",
        "colab": {
          "base_uri": "https://localhost:8080/",
          "height": 489
        },
        "outputId": "1c1e6938-8eb4-48e3-fecb-6a30b4038200"
      },
      "execution_count": null,
      "outputs": [
        {
          "output_type": "execute_result",
          "data": {
            "text/plain": [
              "Text(0.5, 1.0, 'Confusion Matrix')"
            ]
          },
          "metadata": {},
          "execution_count": 150
        },
        {
          "output_type": "display_data",
          "data": {
            "text/plain": [
              "<Figure size 640x480 with 2 Axes>"
            ],
            "image/png": "[encoded data removed]"
          },
          "metadata": {}
        }
      ]
    }
  ]
}